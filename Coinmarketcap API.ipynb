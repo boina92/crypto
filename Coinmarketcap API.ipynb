{
 "cells": [
  {
   "cell_type": "code",
   "execution_count": null,
   "metadata": {},
   "outputs": [
    {
     "name": "stdout",
     "output_type": "stream",
     "text": [
      "\n",
      "Welcome to the CoinMarketCap Explorer!\n",
      "Global cap of all cryptocurrencies: $267173127831.0\n",
      "Enter 'all' or 'name of crypto' (i.e. bitcoin) to see the name of the top 100 currencies or a specific currency\n",
      "\n",
      "Your choice: all\n",
      "BTC:\t\t$7078.89\n",
      "ETH:\t\t$403.469\n",
      "XRP:\t\t$0.516821\n",
      "BCH:\t\t$697.63\n",
      "LTC:\t\t$120.544\n",
      "EOS:\t\t$6.00494\n",
      "XLM:\t\t$0.214478\n",
      "ADA:\t\t$0.1523\n",
      "NEO:\t\t$51.0371\n",
      "MIOTA:\t\t$1.11327\n",
      "XMR:\t\t$180.421\n",
      "DASH:\t\t$322.945\n",
      "TRX:\t\t$0.0351232\n",
      "USDT:\t\t$1.00099\n",
      "XEM:\t\t$0.222494\n",
      "ETC:\t\t$14.5079\n",
      "QTUM:\t\t$14.3813\n",
      "VEN:\t\t$2.42022\n",
      "BNB:\t\t$11.3739\n",
      "ICX:\t\t$2.25609\n",
      "OMG:\t\t$8.34925\n",
      "LSK:\t\t$7.62148\n",
      "BTG:\t\t$44.9034\n",
      "NANO:\t\t$5.45576\n",
      "ZEC:\t\t$190.707\n",
      "XVG:\t\t$0.0394576\n",
      "BTM:\t\t$0.524635\n",
      "ONT:\t\t$2.13335\n",
      "DGD:\t\t$248.73\n",
      "PPT:\t\t$12.358\n",
      "BCN:\t\t$0.00218233\n",
      "STEEM:\t\t$1.53912\n",
      "AE:\t\t$1.62481\n",
      "WAVES:\t\t$3.7041\n",
      "STRAT:\t\t$3.74304\n",
      "SC:\t\t$0.0108672\n",
      "BCD:\t\t$2.32801\n",
      "BTS:\t\t$0.13048\n",
      "RHOC:\t\t$0.940218\n",
      "DOGE:\t\t$0.00285702\n",
      "MKR:\t\t$523.13\n",
      "ZIL:\t\t$0.0465044\n",
      "SNT:\t\t$0.0876063\n",
      "REP:\t\t$26.6195\n",
      "VERI:\t\t$140.954\n",
      "DCR:\t\t$40.4987\n",
      "ZRX:\t\t$0.544533\n",
      "WTC:\t\t$11.3681\n",
      "KMD:\t\t$2.4064\n",
      "AION:\t\t$2.14226\n",
      "HSR:\t\t$5.75321\n",
      "ARDR:\t\t$0.229997\n",
      "LRC:\t\t$0.389159\n",
      "CNX:\t\t$4.90663\n",
      "QASH:\t\t$0.615174\n",
      "KCS:\t\t$2.29747\n",
      "ARK:\t\t$2.04898\n",
      "PIVX:\t\t$3.71054\n",
      "IOST:\t\t$0.0246403\n",
      "BAT:\t\t$0.193387\n",
      "XPA:\t\t$0.1908\n",
      "NAS:\t\t$5.29981\n",
      "MONA:\t\t$3.16581\n",
      "DGB:\t\t$0.0181565\n",
      "FCT:\t\t$19.8002\n",
      "GNT:\t\t$0.200632\n",
      "GXS:\t\t$2.7008\n",
      "GAS:\t\t$16.1068\n",
      "ETHOS:\t\t$2.09877\n",
      "SYS:\t\t$0.287585\n",
      "DRGN:\t\t$0.638751\n",
      "MITH:\t\t$0.506529\n",
      "STORM:\t\t$0.0360774\n",
      "FUN:\t\t$0.0314667\n",
      "KIN:\t\t$0.000189035\n",
      "R:\t\t$0.771599\n",
      "ETN:\t\t$0.020816\n",
      "KNC:\t\t$1.01574\n",
      "ELF:\t\t$0.533769\n",
      "XZC:\t\t$29.1503\n",
      "SUB:\t\t$0.34869\n",
      "SALT:\t\t$2.10497\n",
      "RDD:\t\t$0.00407835\n",
      "NXT:\t\t$0.113653\n",
      "NCASH:\t\t$0.0281323\n",
      "GBYTE:\t\t$173.492\n",
      "REQ:\t\t$0.168513\n",
      "ENG:\t\t$1.45522\n",
      "MAID:\t\t$0.235623\n",
      "POWR:\t\t$0.282553\n",
      "NEBL:\t\t$7.89964\n",
      "LINK:\t\t$0.292262\n",
      "DROP:\t\t$0.00558798\n",
      "DENT:\t\t$0.00933881\n",
      "BNT:\t\t$2.308\n",
      "SKY:\t\t$12.6656\n",
      "ACT:\t\t$0.21166\n",
      "EMC:\t\t$2.33092\n",
      "DCN:\t\t$0.000290638\n",
      "PAY:\t\t$0.887266\n",
      "\n",
      "Again? (y/n): y\n",
      "\n",
      "Welcome to the CoinMarketCap Explorer!\n",
      "Global cap of all cryptocurrencies: $266957920044.0\n",
      "Enter 'all' or 'name of crypto' (i.e. bitcoin) to see the name of the top 100 currencies or a specific currency\n",
      "\n",
      "Your choice: ethereum\n",
      "ETH:\t\t$402.63\n",
      "\n"
     ]
    }
   ],
   "source": [
    "import requests\n",
    "import json\n",
    "\n",
    "while True:\n",
    "    # base URLs\n",
    "    globalURL = \"https://api.coinmarketcap.com/v1/global/\"\n",
    "    tickerURL = \"https://api.coinmarketcap.com/v1/ticker/\"\n",
    "\n",
    "    # get data from globalURL\n",
    "    request = requests.get(globalURL)\n",
    "    data = request.json()\n",
    "    globalMarketCap = data['total_market_cap_usd']\n",
    "\n",
    "    # menu\n",
    "    print()\n",
    "    print(\"Welcome to the CoinMarketCap Explorer!\")\n",
    "    print(\"Global cap of all cryptocurrencies: $\" + str(globalMarketCap))\n",
    "    print(\"Enter 'all' or 'name of crypto' (i.e. bitcoin) to see the name of the top 100 currencies or a specific currency\")\n",
    "    print()\n",
    "    choice = input(\"Your choice: \")\n",
    "\n",
    "    if choice == \"all\":\n",
    "        request = requests.get(tickerURL)\n",
    "        data = request.json()\n",
    "\n",
    "        for x in data:\n",
    "            ticker = x['symbol']\n",
    "            price = x['price_usd']\n",
    "\n",
    "            print(ticker + \":\\t\\t$\" + price)\n",
    "        print()\n",
    "\n",
    "    else:\n",
    "        tickerURL += '/'+choice+'/'\n",
    "        request = requests.get(tickerURL)\n",
    "        data = request.json()\n",
    "\n",
    "        ticker = data[0]['symbol']\n",
    "        price = data[0]['price_usd']\n",
    "\n",
    "        print(ticker + \":\\t\\t$\" + price)\n",
    "        print()\n",
    "\n",
    "    choice2 = input(\"Again? (y/n): \")\n",
    "    if choice2 == \"y\":\n",
    "        continue\n",
    "    if choice2 == \"n\":\n",
    "        break\n",
    "\n"
   ]
  },
  {
   "cell_type": "code",
   "execution_count": null,
   "metadata": {},
   "outputs": [],
   "source": [
    "import requests"
   ]
  },
  {
   "cell_type": "code",
   "execution_count": null,
   "metadata": {},
   "outputs": [],
   "source": [
    "r = requests.get('https://api.github.com/events')"
   ]
  },
  {
   "cell_type": "code",
   "execution_count": null,
   "metadata": {},
   "outputs": [],
   "source": [
    "print(r)"
   ]
  },
  {
   "cell_type": "code",
   "execution_count": 6,
   "metadata": {},
   "outputs": [
    {
     "name": "stdout",
     "output_type": "stream",
     "text": [
      "[{'id': '7462418734', 'type': 'CreateEvent', 'actor': {'id': 20266893, 'login': 'm4sterbunny', 'display_login': 'm4sterbunny', 'gravatar_id': '', 'url': 'https://api.github.com/users/m4sterbunny', 'avatar_url': 'https://avatars.githubusercontent.com/u/20266893?'}, 'repo': {'id': 121796564, 'name': 'OpenSecuritySummit/oss2018', 'url': 'https://api.github.com/repos/OpenSecuritySummit/oss2018'}, 'payload': {'ref': 'm4sterbunny-patch-4', 'ref_type': 'branch', 'master_branch': 'master', 'description': 'Open Security Summit 2018', 'pusher_type': 'user'}, 'public': True, 'created_at': '2018-03-31T15:57:21Z', 'org': {'id': 36542601, 'login': 'OpenSecuritySummit', 'gravatar_id': '', 'url': 'https://api.github.com/orgs/OpenSecuritySummit', 'avatar_url': 'https://avatars.githubusercontent.com/u/36542601?'}}, {'id': '7462418733', 'type': 'PushEvent', 'actor': {'id': 2206700, 'login': 'coppolaemilio', 'display_login': 'coppolaemilio', 'gravatar_id': '', 'url': 'https://api.github.com/users/coppolaemilio', 'avatar_url': 'https://avatars.githubusercontent.com/u/2206700?'}, 'repo': {'id': 126590426, 'name': 'coppolaemilio/notes', 'url': 'https://api.github.com/repos/coppolaemilio/notes'}, 'payload': {'push_id': 2447720565, 'size': 1, 'distinct_size': 1, 'ref': 'refs/heads/master', 'head': '38e99d07a8ff7f1b62f689e2d0396ad30d283907', 'before': '747e0f7ab13988018c91c364fc2d6a69cce8e376', 'commits': [{'sha': '38e99d07a8ff7f1b62f689e2d0396ad30d283907', 'author': {'email': 'coppolaemilio@gmail.com', 'name': 'Emilio Coppola'}, 'message': 'forcing update', 'distinct': True, 'url': 'https://api.github.com/repos/coppolaemilio/notes/commits/38e99d07a8ff7f1b62f689e2d0396ad30d283907'}]}, 'public': True, 'created_at': '2018-03-31T15:57:21Z'}, {'id': '7462418729', 'type': 'PushEvent', 'actor': {'id': 107679, 'login': 'guillaumechereau', 'display_login': 'guillaumechereau', 'gravatar_id': '', 'url': 'https://api.github.com/users/guillaumechereau', 'avatar_url': 'https://avatars.githubusercontent.com/u/107679?'}, 'repo': {'id': 43659475, 'name': 'guillaumechereau/goxel', 'url': 'https://api.github.com/repos/guillaumechereau/goxel'}, 'payload': {'push_id': 2447720563, 'size': 1, 'distinct_size': 1, 'ref': 'refs/heads/cycles-test', 'head': '831f0af1e0870466e50a3f065364f9012366a3d4', 'before': '70b5649851ece6755b7930230b6b1bf23a79eac8', 'commits': [{'sha': '831f0af1e0870466e50a3f065364f9012366a3d4', 'author': {'email': 'guillaume@noctua-software.com', 'name': 'Guillaume Chereau'}, 'message': 'cycles: remove unused files', 'distinct': True, 'url': 'https://api.github.com/repos/guillaumechereau/goxel/commits/831f0af1e0870466e50a3f065364f9012366a3d4'}]}, 'public': True, 'created_at': '2018-03-31T15:57:20Z'}, {'id': '7462418728', 'type': 'PushEvent', 'actor': {'id': 31858072, 'login': 'TalibAzir', 'display_login': 'TalibAzir', 'gravatar_id': '', 'url': 'https://api.github.com/users/TalibAzir', 'avatar_url': 'https://avatars.githubusercontent.com/u/31858072?'}, 'repo': {'id': 103155160, 'name': 'TalibAzir/AllahPadishah', 'url': 'https://api.github.com/repos/TalibAzir/AllahPadishah'}, 'payload': {'push_id': 2447720562, 'size': 1, 'distinct_size': 1, 'ref': 'refs/heads/master', 'head': 'b0110f58636576bb8971d52240c0684ab9a17fd1', 'before': '733e18017a85b85dd7f7aa8e15b0c0e5a31eed6e', 'commits': [{'sha': 'b0110f58636576bb8971d52240c0684ab9a17fd1', 'author': {'email': '31858072+TalibAzir@users.noreply.github.com', 'name': 'TalibAzir'}, 'message': '[2018-03-31_18:57:17]_UsersUpdate', 'distinct': True, 'url': 'https://api.github.com/repos/TalibAzir/AllahPadishah/commits/b0110f58636576bb8971d52240c0684ab9a17fd1'}]}, 'public': True, 'created_at': '2018-03-31T15:57:20Z'}, {'id': '7462418726', 'type': 'PushEvent', 'actor': {'id': 555381, 'login': 'aufi', 'display_login': 'aufi', 'gravatar_id': '', 'url': 'https://api.github.com/users/aufi', 'avatar_url': 'https://avatars.githubusercontent.com/u/555381?'}, 'repo': {'id': 80338450, 'name': 'aufi/home_automation', 'url': 'https://api.github.com/repos/aufi/home_automation'}, 'payload': {'push_id': 2447720561, 'size': 1, 'distinct_size': 1, 'ref': 'refs/heads/master', 'head': 'f05ece513be2863e23a3531af485345c96af17f2', 'before': 'e0187ebcd23e654029d8ead2d0d445ff6f388a33', 'commits': [{'sha': 'f05ece513be2863e23a3531af485345c96af17f2', 'author': {'email': 'aufi.cz@gmail.com', 'name': 'Marek Aufart'}, 'message': 'add button input', 'distinct': True, 'url': 'https://api.github.com/repos/aufi/home_automation/commits/f05ece513be2863e23a3531af485345c96af17f2'}]}, 'public': True, 'created_at': '2018-03-31T15:57:20Z'}, {'id': '7462418725', 'type': 'CreateEvent', 'actor': {'id': 8858650, 'login': 's-litvin', 'display_login': 's-litvin', 'gravatar_id': '', 'url': 'https://api.github.com/users/s-litvin', 'avatar_url': 'https://avatars.githubusercontent.com/u/8858650?'}, 'repo': {'id': 127547140, 'name': 's-litvin/test', 'url': 'https://api.github.com/repos/s-litvin/test'}, 'payload': {'ref': 'master', 'ref_type': 'branch', 'master_branch': 'master', 'description': None, 'pusher_type': 'user'}, 'public': True, 'created_at': '2018-03-31T15:57:20Z'}, {'id': '7462418724', 'type': 'PushEvent', 'actor': {'id': 18587852, 'login': 'FunnyWuLoveLife', 'display_login': 'FunnyWuLoveLife', 'gravatar_id': '', 'url': 'https://api.github.com/users/FunnyWuLoveLife', 'avatar_url': 'https://avatars.githubusercontent.com/u/18587852?'}, 'repo': {'id': 127495690, 'name': 'FunnyWuLoveLife/BananaBlog', 'url': 'https://api.github.com/repos/FunnyWuLoveLife/BananaBlog'}, 'payload': {'push_id': 2447720560, 'size': 1, 'distinct_size': 1, 'ref': 'refs/heads/develop', 'head': 'b24016fe903cd13be510d6d689539fee371a93ff', 'before': 'ddefaf979d5f9df0836b1f0847f3643db4f3795f', 'commits': [{'sha': 'b24016fe903cd13be510d6d689539fee371a93ff', 'author': {'email': 'agiot1026@163.com', 'name': 'Funnywu'}, 'message': 'chanage local host', 'distinct': True, 'url': 'https://api.github.com/repos/FunnyWuLoveLife/BananaBlog/commits/b24016fe903cd13be510d6d689539fee371a93ff'}]}, 'public': True, 'created_at': '2018-03-31T15:57:20Z'}, {'id': '7462418723', 'type': 'PushEvent', 'actor': {'id': 7419685, 'login': 'lexpostma', 'display_login': 'lexpostma', 'gravatar_id': '', 'url': 'https://api.github.com/users/lexpostma', 'avatar_url': 'https://avatars.githubusercontent.com/u/7419685?'}, 'repo': {'id': 121121442, 'name': 'lexpostma/wedding-website', 'url': 'https://api.github.com/repos/lexpostma/wedding-website'}, 'payload': {'push_id': 2447720559, 'size': 1, 'distinct_size': 1, 'ref': 'refs/heads/master', 'head': '515c5fa1655d2f8849b01e4bf67ab97a0cb464f0', 'before': 'e236463337c20c2ce5e7a37faddb5a9381d09d1c', 'commits': [{'sha': '515c5fa1655d2f8849b01e4bf67ab97a0cb464f0', 'author': {'email': 'lex@postma.me', 'name': 'Lex Postma'}, 'message': 'Add address styling and fix SQL update', 'distinct': True, 'url': 'https://api.github.com/repos/lexpostma/wedding-website/commits/515c5fa1655d2f8849b01e4bf67ab97a0cb464f0'}]}, 'public': True, 'created_at': '2018-03-31T15:57:20Z'}, {'id': '7462418721', 'type': 'PushEvent', 'actor': {'id': 30198285, 'login': '023Sparrow', 'display_login': '023Sparrow', 'gravatar_id': '', 'url': 'https://api.github.com/users/023Sparrow', 'avatar_url': 'https://avatars.githubusercontent.com/u/30198285?'}, 'repo': {'id': 127448639, 'name': '023Sparrow/023Sparrow.github.io', 'url': 'https://api.github.com/repos/023Sparrow/023Sparrow.github.io'}, 'payload': {'push_id': 2447720558, 'size': 1, 'distinct_size': 1, 'ref': 'refs/heads/master', 'head': '56f62bbaec7834fc9667ac58f77c56c441e7d7e8', 'before': '450008f155531e8ded530370d5a7f10e9cbc5f06', 'commits': [{'sha': '56f62bbaec7834fc9667ac58f77c56c441e7d7e8', 'author': {'email': 'flame_zh@foxmail.com', 'name': '023Sparrow'}, 'message': 'Site updated: 2018-03-31 23:57:09', 'distinct': True, 'url': 'https://api.github.com/repos/023Sparrow/023Sparrow.github.io/commits/56f62bbaec7834fc9667ac58f77c56c441e7d7e8'}]}, 'public': True, 'created_at': '2018-03-31T15:57:20Z'}, {'id': '7462418719', 'type': 'PushEvent', 'actor': {'id': 26343145, 'login': 'Hetvee', 'display_login': 'Hetvee', 'gravatar_id': '', 'url': 'https://api.github.com/users/Hetvee', 'avatar_url': 'https://avatars.githubusercontent.com/u/26343145?'}, 'repo': {'id': 127545956, 'name': 'Hetvee/RepData_PeerAssessment1', 'url': 'https://api.github.com/repos/Hetvee/RepData_PeerAssessment1'}, 'payload': {'push_id': 2447720557, 'size': 1, 'distinct_size': 1, 'ref': 'refs/heads/master', 'head': '0bcc87ee48c0e7caa46693d8a306cf12b34c92f9', 'before': '6603f662362d14fb48f151f2f717b95946201110', 'commits': [{'sha': '0bcc87ee48c0e7caa46693d8a306cf12b34c92f9', 'author': {'email': 'hetvee.patel2011@gmail.com', 'name': 'Hetvee'}, 'message': 'Add files via upload', 'distinct': True, 'url': 'https://api.github.com/repos/Hetvee/RepData_PeerAssessment1/commits/0bcc87ee48c0e7caa46693d8a306cf12b34c92f9'}]}, 'public': True, 'created_at': '2018-03-31T15:57:20Z'}, {'id': '7462418718', 'type': 'CreateEvent', 'actor': {'id': 17080984, 'login': 'MikhailTymchukDX', 'display_login': 'MikhailTymchukDX', 'gravatar_id': '', 'url': 'https://api.github.com/users/MikhailTymchukDX', 'avatar_url': 'https://avatars.githubusercontent.com/u/17080984?'}, 'repo': {'id': 127547442, 'name': 'codecentral-examples/editing-using-popup-menu-e38', 'url': 'https://api.github.com/repos/codecentral-examples/editing-using-popup-menu-e38'}, 'payload': {'ref': None, 'ref_type': 'repository', 'master_branch': 'master', 'description': None, 'pusher_type': 'user'}, 'public': True, 'created_at': '2018-03-31T15:57:20Z', 'org': {'id': 25218516, 'login': 'codecentral-examples', 'gravatar_id': '', 'url': 'https://api.github.com/orgs/codecentral-examples', 'avatar_url': 'https://avatars.githubusercontent.com/u/25218516?'}}, {'id': '7462418715', 'type': 'PushEvent', 'actor': {'id': 13848569, 'login': 'zhouhuafei', 'display_login': 'zhouhuafei', 'gravatar_id': '', 'url': 'https://api.github.com/users/zhouhuafei', 'avatar_url': 'https://avatars.githubusercontent.com/u/13848569?'}, 'repo': {'id': 119927458, 'name': 'zhouhuafei/readme-notes', 'url': 'https://api.github.com/repos/zhouhuafei/readme-notes'}, 'payload': {'push_id': 2447720555, 'size': 1, 'distinct_size': 1, 'ref': 'refs/heads/master', 'head': 'f9c1dad4666ce64f45038bd6a56d06fb8e71e76c', 'before': '15aa7184065937a41f1f7f76c8dff8bb2c114baa', 'commits': [{'sha': 'f9c1dad4666ce64f45038bd6a56d06fb8e71e76c', 'author': {'email': '1123486116@qq.com', 'name': 'zhouhuafei'}, 'message': '设备物理像素比', 'distinct': True, 'url': 'https://api.github.com/repos/zhouhuafei/readme-notes/commits/f9c1dad4666ce64f45038bd6a56d06fb8e71e76c'}]}, 'public': True, 'created_at': '2018-03-31T15:57:20Z'}, {'id': '7462418714', 'type': 'PullRequestEvent', 'actor': {'id': 3685923, 'login': 'nfode', 'display_login': 'nfode', 'gravatar_id': '', 'url': 'https://api.github.com/users/nfode', 'avatar_url': 'https://avatars.githubusercontent.com/u/3685923?'}, 'repo': {'id': 96331237, 'name': 'StuPro-TOSCAna/TOSCAna', 'url': 'https://api.github.com/repos/StuPro-TOSCAna/TOSCAna'}, 'payload': {'action': 'opened', 'number': 643, 'pull_request': {'url': 'https://api.github.com/repos/StuPro-TOSCAna/TOSCAna/pulls/643', 'id': 178688367, 'html_url': 'https://github.com/StuPro-TOSCAna/TOSCAna/pull/643', 'diff_url': 'https://github.com/StuPro-TOSCAna/TOSCAna/pull/643.diff', 'patch_url': 'https://github.com/StuPro-TOSCAna/TOSCAna/pull/643.patch', 'issue_url': 'https://api.github.com/repos/StuPro-TOSCAna/TOSCAna/issues/643', 'number': 643, 'state': 'open', 'locked': False, 'title': 'Add intro', 'user': {'login': 'nfode', 'id': 3685923, 'avatar_url': 'https://avatars1.githubusercontent.com/u/3685923?v=4', 'gravatar_id': '', 'url': 'https://api.github.com/users/nfode', 'html_url': 'https://github.com/nfode', 'followers_url': 'https://api.github.com/users/nfode/followers', 'following_url': 'https://api.github.com/users/nfode/following{/other_user}', 'gists_url': 'https://api.github.com/users/nfode/gists{/gist_id}', 'starred_url': 'https://api.github.com/users/nfode/starred{/owner}{/repo}', 'subscriptions_url': 'https://api.github.com/users/nfode/subscriptions', 'organizations_url': 'https://api.github.com/users/nfode/orgs', 'repos_url': 'https://api.github.com/users/nfode/repos', 'events_url': 'https://api.github.com/users/nfode/events{/privacy}', 'received_events_url': 'https://api.github.com/users/nfode/received_events', 'type': 'User', 'site_admin': False}, 'body': '', 'created_at': '2018-03-31T15:57:20Z', 'updated_at': '2018-03-31T15:57:20Z', 'closed_at': None, 'merged_at': None, 'merge_commit_sha': None, 'assignee': None, 'assignees': [], 'requested_reviewers': [], 'requested_teams': [], 'labels': [], 'milestone': None, 'commits_url': 'https://api.github.com/repos/StuPro-TOSCAna/TOSCAna/pulls/643/commits', 'review_comments_url': 'https://api.github.com/repos/StuPro-TOSCAna/TOSCAna/pulls/643/comments', 'review_comment_url': 'https://api.github.com/repos/StuPro-TOSCAna/TOSCAna/pulls/comments{/number}', 'comments_url': 'https://api.github.com/repos/StuPro-TOSCAna/TOSCAna/issues/643/comments', 'statuses_url': 'https://api.github.com/repos/StuPro-TOSCAna/TOSCAna/statuses/1f97d3fed8694478dfd4e4f541166e6615adea30', 'head': {'label': 'StuPro-TOSCAna:doc/introduction', 'ref': 'doc/introduction', 'sha': '1f97d3fed8694478dfd4e4f541166e6615adea30', 'user': {'login': 'StuPro-TOSCAna', 'id': 30219494, 'avatar_url': 'https://avatars2.githubusercontent.com/u/30219494?v=4', 'gravatar_id': '', 'url': 'https://api.github.com/users/StuPro-TOSCAna', 'html_url': 'https://github.com/StuPro-TOSCAna', 'followers_url': 'https://api.github.com/users/StuPro-TOSCAna/followers', 'following_url': 'https://api.github.com/users/StuPro-TOSCAna/following{/other_user}', 'gists_url': 'https://api.github.com/users/StuPro-TOSCAna/gists{/gist_id}', 'starred_url': 'https://api.github.com/users/StuPro-TOSCAna/starred{/owner}{/repo}', 'subscriptions_url': 'https://api.github.com/users/StuPro-TOSCAna/subscriptions', 'organizations_url': 'https://api.github.com/users/StuPro-TOSCAna/orgs', 'repos_url': 'https://api.github.com/users/StuPro-TOSCAna/repos', 'events_url': 'https://api.github.com/users/StuPro-TOSCAna/events{/privacy}', 'received_events_url': 'https://api.github.com/users/StuPro-TOSCAna/received_events', 'type': 'Organization', 'site_admin': False}, 'repo': {'id': 96331237, 'name': 'TOSCAna', 'full_name': 'StuPro-TOSCAna/TOSCAna', 'owner': {'login': 'StuPro-TOSCAna', 'id': 30219494, 'avatar_url': 'https://avatars2.githubusercontent.com/u/30219494?v=4', 'gravatar_id': '', 'url': 'https://api.github.com/users/StuPro-TOSCAna', 'html_url': 'https://github.com/StuPro-TOSCAna', 'followers_url': 'https://api.github.com/users/StuPro-TOSCAna/followers', 'following_url': 'https://api.github.com/users/StuPro-TOSCAna/following{/other_user}', 'gists_url': 'https://api.github.com/users/StuPro-TOSCAna/gists{/gist_id}', 'starred_url': 'https://api.github.com/users/StuPro-TOSCAna/starred{/owner}{/repo}', 'subscriptions_url': 'https://api.github.com/users/StuPro-TOSCAna/subscriptions', 'organizations_url': 'https://api.github.com/users/StuPro-TOSCAna/orgs', 'repos_url': 'https://api.github.com/users/StuPro-TOSCAna/repos', 'events_url': 'https://api.github.com/users/StuPro-TOSCAna/events{/privacy}', 'received_events_url': 'https://api.github.com/users/StuPro-TOSCAna/received_events', 'type': 'Organization', 'site_admin': False}, 'private': False, 'html_url': 'https://github.com/StuPro-TOSCAna/TOSCAna', 'description': 'TOSCA transformer build by students at the University of Stuttgart', 'fork': False, 'url': 'https://api.github.com/repos/StuPro-TOSCAna/TOSCAna', 'forks_url': 'https://api.github.com/repos/StuPro-TOSCAna/TOSCAna/forks', 'keys_url': 'https://api.github.com/repos/StuPro-TOSCAna/TOSCAna/keys{/key_id}', 'collaborators_url': 'https://api.github.com/repos/StuPro-TOSCAna/TOSCAna/collaborators{/collaborator}', 'teams_url': 'https://api.github.com/repos/StuPro-TOSCAna/TOSCAna/teams', 'hooks_url': 'https://api.github.com/repos/StuPro-TOSCAna/TOSCAna/hooks', 'issue_events_url': 'https://api.github.com/repos/StuPro-TOSCAna/TOSCAna/issues/events{/number}', 'events_url': 'https://api.github.com/repos/StuPro-TOSCAna/TOSCAna/events', 'assignees_url': 'https://api.github.com/repos/StuPro-TOSCAna/TOSCAna/assignees{/user}', 'branches_url': 'https://api.github.com/repos/StuPro-TOSCAna/TOSCAna/branches{/branch}', 'tags_url': 'https://api.github.com/repos/StuPro-TOSCAna/TOSCAna/tags', 'blobs_url': 'https://api.github.com/repos/StuPro-TOSCAna/TOSCAna/git/blobs{/sha}', 'git_tags_url': 'https://api.github.com/repos/StuPro-TOSCAna/TOSCAna/git/tags{/sha}', 'git_refs_url': 'https://api.github.com/repos/StuPro-TOSCAna/TOSCAna/git/refs{/sha}', 'trees_url': 'https://api.github.com/repos/StuPro-TOSCAna/TOSCAna/git/trees{/sha}', 'statuses_url': 'https://api.github.com/repos/StuPro-TOSCAna/TOSCAna/statuses/{sha}', 'languages_url': 'https://api.github.com/repos/StuPro-TOSCAna/TOSCAna/languages', 'stargazers_url': 'https://api.github.com/repos/StuPro-TOSCAna/TOSCAna/stargazers', 'contributors_url': 'https://api.github.com/repos/StuPro-TOSCAna/TOSCAna/contributors', 'subscribers_url': 'https://api.github.com/repos/StuPro-TOSCAna/TOSCAna/subscribers', 'subscription_url': 'https://api.github.com/repos/StuPro-TOSCAna/TOSCAna/subscription', 'commits_url': 'https://api.github.com/repos/StuPro-TOSCAna/TOSCAna/commits{/sha}', 'git_commits_url': 'https://api.github.com/repos/StuPro-TOSCAna/TOSCAna/git/commits{/sha}', 'comments_url': 'https://api.github.com/repos/StuPro-TOSCAna/TOSCAna/comments{/number}', 'issue_comment_url': 'https://api.github.com/repos/StuPro-TOSCAna/TOSCAna/issues/comments{/number}', 'contents_url': 'https://api.github.com/repos/StuPro-TOSCAna/TOSCAna/contents/{+path}', 'compare_url': 'https://api.github.com/repos/StuPro-TOSCAna/TOSCAna/compare/{base}...{head}', 'merges_url': 'https://api.github.com/repos/StuPro-TOSCAna/TOSCAna/merges', 'archive_url': 'https://api.github.com/repos/StuPro-TOSCAna/TOSCAna/{archive_format}{/ref}', 'downloads_url': 'https://api.github.com/repos/StuPro-TOSCAna/TOSCAna/downloads', 'issues_url': 'https://api.github.com/repos/StuPro-TOSCAna/TOSCAna/issues{/number}', 'pulls_url': 'https://api.github.com/repos/StuPro-TOSCAna/TOSCAna/pulls{/number}', 'milestones_url': 'https://api.github.com/repos/StuPro-TOSCAna/TOSCAna/milestones{/number}', 'notifications_url': 'https://api.github.com/repos/StuPro-TOSCAna/TOSCAna/notifications{?since,all,participating}', 'labels_url': 'https://api.github.com/repos/StuPro-TOSCAna/TOSCAna/labels{/name}', 'releases_url': 'https://api.github.com/repos/StuPro-TOSCAna/TOSCAna/releases{/id}', 'deployments_url': 'https://api.github.com/repos/StuPro-TOSCAna/TOSCAna/deployments', 'created_at': '2017-07-05T14:57:34Z', 'updated_at': '2018-03-31T15:37:18Z', 'pushed_at': '2018-03-31T15:56:58Z', 'git_url': 'git://github.com/StuPro-TOSCAna/TOSCAna.git', 'ssh_url': 'git@github.com:StuPro-TOSCAna/TOSCAna.git', 'clone_url': 'https://github.com/StuPro-TOSCAna/TOSCAna.git', 'svn_url': 'https://github.com/StuPro-TOSCAna/TOSCAna', 'homepage': 'http://toscana.readthedocs.io', 'size': 97688, 'stargazers_count': 9, 'watchers_count': 9, 'language': 'Java', 'has_issues': True, 'has_projects': False, 'has_downloads': True, 'has_wiki': False, 'has_pages': True, 'forks_count': 4, 'mirror_url': None, 'archived': False, 'open_issues_count': 26, 'license': {'key': 'apache-2.0', 'name': 'Apache License 2.0', 'spdx_id': 'Apache-2.0', 'url': 'https://api.github.com/licenses/apache-2.0'}, 'forks': 4, 'open_issues': 26, 'watchers': 9, 'default_branch': 'master'}}, 'base': {'label': 'StuPro-TOSCAna:master', 'ref': 'master', 'sha': 'f91fd4eaf4e4f8708df93ba508b397486e2b2beb', 'user': {'login': 'StuPro-TOSCAna', 'id': 30219494, 'avatar_url': 'https://avatars2.githubusercontent.com/u/30219494?v=4', 'gravatar_id': '', 'url': 'https://api.github.com/users/StuPro-TOSCAna', 'html_url': 'https://github.com/StuPro-TOSCAna', 'followers_url': 'https://api.github.com/users/StuPro-TOSCAna/followers', 'following_url': 'https://api.github.com/users/StuPro-TOSCAna/following{/other_user}', 'gists_url': 'https://api.github.com/users/StuPro-TOSCAna/gists{/gist_id}', 'starred_url': 'https://api.github.com/users/StuPro-TOSCAna/starred{/owner}{/repo}', 'subscriptions_url': 'https://api.github.com/users/StuPro-TOSCAna/subscriptions', 'organizations_url': 'https://api.github.com/users/StuPro-TOSCAna/orgs', 'repos_url': 'https://api.github.com/users/StuPro-TOSCAna/repos', 'events_url': 'https://api.github.com/users/StuPro-TOSCAna/events{/privacy}', 'received_events_url': 'https://api.github.com/users/StuPro-TOSCAna/received_events', 'type': 'Organization', 'site_admin': False}, 'repo': {'id': 96331237, 'name': 'TOSCAna', 'full_name': 'StuPro-TOSCAna/TOSCAna', 'owner': {'login': 'StuPro-TOSCAna', 'id': 30219494, 'avatar_url': 'https://avatars2.githubusercontent.com/u/30219494?v=4', 'gravatar_id': '', 'url': 'https://api.github.com/users/StuPro-TOSCAna', 'html_url': 'https://github.com/StuPro-TOSCAna', 'followers_url': 'https://api.github.com/users/StuPro-TOSCAna/followers', 'following_url': 'https://api.github.com/users/StuPro-TOSCAna/following{/other_user}', 'gists_url': 'https://api.github.com/users/StuPro-TOSCAna/gists{/gist_id}', 'starred_url': 'https://api.github.com/users/StuPro-TOSCAna/starred{/owner}{/repo}', 'subscriptions_url': 'https://api.github.com/users/StuPro-TOSCAna/subscriptions', 'organizations_url': 'https://api.github.com/users/StuPro-TOSCAna/orgs', 'repos_url': 'https://api.github.com/users/StuPro-TOSCAna/repos', 'events_url': 'https://api.github.com/users/StuPro-TOSCAna/events{/privacy}', 'received_events_url': 'https://api.github.com/users/StuPro-TOSCAna/received_events', 'type': 'Organization', 'site_admin': False}, 'private': False, 'html_url': 'https://github.com/StuPro-TOSCAna/TOSCAna', 'description': 'TOSCA transformer build by students at the University of Stuttgart', 'fork': False, 'url': 'https://api.github.com/repos/StuPro-TOSCAna/TOSCAna', 'forks_url': 'https://api.github.com/repos/StuPro-TOSCAna/TOSCAna/forks', 'keys_url': 'https://api.github.com/repos/StuPro-TOSCAna/TOSCAna/keys{/key_id}', 'collaborators_url': 'https://api.github.com/repos/StuPro-TOSCAna/TOSCAna/collaborators{/collaborator}', 'teams_url': 'https://api.github.com/repos/StuPro-TOSCAna/TOSCAna/teams', 'hooks_url': 'https://api.github.com/repos/StuPro-TOSCAna/TOSCAna/hooks', 'issue_events_url': 'https://api.github.com/repos/StuPro-TOSCAna/TOSCAna/issues/events{/number}', 'events_url': 'https://api.github.com/repos/StuPro-TOSCAna/TOSCAna/events', 'assignees_url': 'https://api.github.com/repos/StuPro-TOSCAna/TOSCAna/assignees{/user}', 'branches_url': 'https://api.github.com/repos/StuPro-TOSCAna/TOSCAna/branches{/branch}', 'tags_url': 'https://api.github.com/repos/StuPro-TOSCAna/TOSCAna/tags', 'blobs_url': 'https://api.github.com/repos/StuPro-TOSCAna/TOSCAna/git/blobs{/sha}', 'git_tags_url': 'https://api.github.com/repos/StuPro-TOSCAna/TOSCAna/git/tags{/sha}', 'git_refs_url': 'https://api.github.com/repos/StuPro-TOSCAna/TOSCAna/git/refs{/sha}', 'trees_url': 'https://api.github.com/repos/StuPro-TOSCAna/TOSCAna/git/trees{/sha}', 'statuses_url': 'https://api.github.com/repos/StuPro-TOSCAna/TOSCAna/statuses/{sha}', 'languages_url': 'https://api.github.com/repos/StuPro-TOSCAna/TOSCAna/languages', 'stargazers_url': 'https://api.github.com/repos/StuPro-TOSCAna/TOSCAna/stargazers', 'contributors_url': 'https://api.github.com/repos/StuPro-TOSCAna/TOSCAna/contributors', 'subscribers_url': 'https://api.github.com/repos/StuPro-TOSCAna/TOSCAna/subscribers', 'subscription_url': 'https://api.github.com/repos/StuPro-TOSCAna/TOSCAna/subscription', 'commits_url': 'https://api.github.com/repos/StuPro-TOSCAna/TOSCAna/commits{/sha}', 'git_commits_url': 'https://api.github.com/repos/StuPro-TOSCAna/TOSCAna/git/commits{/sha}', 'comments_url': 'https://api.github.com/repos/StuPro-TOSCAna/TOSCAna/comments{/number}', 'issue_comment_url': 'https://api.github.com/repos/StuPro-TOSCAna/TOSCAna/issues/comments{/number}', 'contents_url': 'https://api.github.com/repos/StuPro-TOSCAna/TOSCAna/contents/{+path}', 'compare_url': 'https://api.github.com/repos/StuPro-TOSCAna/TOSCAna/compare/{base}...{head}', 'merges_url': 'https://api.github.com/repos/StuPro-TOSCAna/TOSCAna/merges', 'archive_url': 'https://api.github.com/repos/StuPro-TOSCAna/TOSCAna/{archive_format}{/ref}', 'downloads_url': 'https://api.github.com/repos/StuPro-TOSCAna/TOSCAna/downloads', 'issues_url': 'https://api.github.com/repos/StuPro-TOSCAna/TOSCAna/issues{/number}', 'pulls_url': 'https://api.github.com/repos/StuPro-TOSCAna/TOSCAna/pulls{/number}', 'milestones_url': 'https://api.github.com/repos/StuPro-TOSCAna/TOSCAna/milestones{/number}', 'notifications_url': 'https://api.github.com/repos/StuPro-TOSCAna/TOSCAna/notifications{?since,all,participating}', 'labels_url': 'https://api.github.com/repos/StuPro-TOSCAna/TOSCAna/labels{/name}', 'releases_url': 'https://api.github.com/repos/StuPro-TOSCAna/TOSCAna/releases{/id}', 'deployments_url': 'https://api.github.com/repos/StuPro-TOSCAna/TOSCAna/deployments', 'created_at': '2017-07-05T14:57:34Z', 'updated_at': '2018-03-31T15:37:18Z', 'pushed_at': '2018-03-31T15:56:58Z', 'git_url': 'git://github.com/StuPro-TOSCAna/TOSCAna.git', 'ssh_url': 'git@github.com:StuPro-TOSCAna/TOSCAna.git', 'clone_url': 'https://github.com/StuPro-TOSCAna/TOSCAna.git', 'svn_url': 'https://github.com/StuPro-TOSCAna/TOSCAna', 'homepage': 'http://toscana.readthedocs.io', 'size': 97688, 'stargazers_count': 9, 'watchers_count': 9, 'language': 'Java', 'has_issues': True, 'has_projects': False, 'has_downloads': True, 'has_wiki': False, 'has_pages': True, 'forks_count': 4, 'mirror_url': None, 'archived': False, 'open_issues_count': 26, 'license': {'key': 'apache-2.0', 'name': 'Apache License 2.0', 'spdx_id': 'Apache-2.0', 'url': 'https://api.github.com/licenses/apache-2.0'}, 'forks': 4, 'open_issues': 26, 'watchers': 9, 'default_branch': 'master'}}, '_links': {'self': {'href': 'https://api.github.com/repos/StuPro-TOSCAna/TOSCAna/pulls/643'}, 'html': {'href': 'https://github.com/StuPro-TOSCAna/TOSCAna/pull/643'}, 'issue': {'href': 'https://api.github.com/repos/StuPro-TOSCAna/TOSCAna/issues/643'}, 'comments': {'href': 'https://api.github.com/repos/StuPro-TOSCAna/TOSCAna/issues/643/comments'}, 'review_comments': {'href': 'https://api.github.com/repos/StuPro-TOSCAna/TOSCAna/pulls/643/comments'}, 'review_comment': {'href': 'https://api.github.com/repos/StuPro-TOSCAna/TOSCAna/pulls/comments{/number}'}, 'commits': {'href': 'https://api.github.com/repos/StuPro-TOSCAna/TOSCAna/pulls/643/commits'}, 'statuses': {'href': 'https://api.github.com/repos/StuPro-TOSCAna/TOSCAna/statuses/1f97d3fed8694478dfd4e4f541166e6615adea30'}}, 'author_association': 'COLLABORATOR', 'merged': False, 'mergeable': None, 'rebaseable': None, 'mergeable_state': 'unknown', 'merged_by': None, 'comments': 0, 'review_comments': 0, 'maintainer_can_modify': False, 'commits': 1, 'additions': 22, 'deletions': 2, 'changed_files': 1}}, 'public': True, 'created_at': '2018-03-31T15:57:20Z', 'org': {'id': 30219494, 'login': 'StuPro-TOSCAna', 'gravatar_id': '', 'url': 'https://api.github.com/orgs/StuPro-TOSCAna', 'avatar_url': 'https://avatars.githubusercontent.com/u/30219494?'}}, {'id': '7462418712', 'type': 'PushEvent', 'actor': {'id': 226680, 'login': 'mvv', 'display_login': 'mvv', 'gravatar_id': '', 'url': 'https://api.github.com/users/mvv', 'avatar_url': 'https://avatars.githubusercontent.com/u/226680?'}, 'repo': {'id': 2076854, 'name': 'mvv/transformers-base', 'url': 'https://api.github.com/repos/mvv/transformers-base'}, 'payload': {'push_id': 2447720554, 'size': 2, 'distinct_size': 2, 'ref': 'refs/heads/master', 'head': '0e770f40868ac0ed0b36ce1231b217aa724932c8', 'before': 'b6f410ed75b02dab6c6f9c4146cb39092293fb0c', 'commits': [{'sha': 'e27d0ed765c7dbdc7fdfac97646c8292c7f10b34', 'author': {'email': 'mikhail.vorozhtsov@gmail.com', 'name': 'Mikhail Vorozhtsov'}, 'message': 'travis: Set INSTALLED=false on GHC 7.10', 'distinct': True, 'url': 'https://api.github.com/repos/mvv/transformers-base/commits/e27d0ed765c7dbdc7fdfac97646c8292c7f10b34'}, {'sha': '0e770f40868ac0ed0b36ce1231b217aa724932c8', 'author': {'email': 'mikhail.vorozhtsov@gmail.com', 'name': 'Mikhail Vorozhtsov'}, 'message': 'Add MonadBase instance for SelectT', 'distinct': True, 'url': 'https://api.github.com/repos/mvv/transformers-base/commits/0e770f40868ac0ed0b36ce1231b217aa724932c8'}]}, 'public': True, 'created_at': '2018-03-31T15:57:20Z'}, {'id': '7462418708', 'type': 'PushEvent', 'actor': {'id': 17755903, 'login': 'lindian', 'display_login': 'lindian', 'gravatar_id': '', 'url': 'https://api.github.com/users/lindian', 'avatar_url': 'https://avatars.githubusercontent.com/u/17755903?'}, 'repo': {'id': 127423138, 'name': 'lindian/djangonote', 'url': 'https://api.github.com/repos/lindian/djangonote'}, 'payload': {'push_id': 2447720551, 'size': 1, 'distinct_size': 1, 'ref': 'refs/heads/gh-pages', 'head': '19a2f24294a812575af2461bb5dd5ab267bfcb91', 'before': '7e0651d6cb8d677c738d6896b2f2f34cdb825c32', 'commits': [{'sha': '19a2f24294a812575af2461bb5dd5ab267bfcb91', 'author': {'email': 'pengcl@aliyun.com', 'name': 'DIAN'}, 'message': 'ADD', 'distinct': True, 'url': 'https://api.github.com/repos/lindian/djangonote/commits/19a2f24294a812575af2461bb5dd5ab267bfcb91'}]}, 'public': True, 'created_at': '2018-03-31T15:57:20Z'}, {'id': '7462418707', 'type': 'PushEvent', 'actor': {'id': 29355181, 'login': 'WebSallyOne', 'display_login': 'WebSallyOne', 'gravatar_id': '', 'url': 'https://api.github.com/users/WebSallyOne', 'avatar_url': 'https://avatars.githubusercontent.com/u/29355181?'}, 'repo': {'id': 109413760, 'name': 'WebSallyOne/DoctorVet', 'url': 'https://api.github.com/repos/WebSallyOne/DoctorVet'}, 'payload': {'push_id': 2447720550, 'size': 1, 'distinct_size': 1, 'ref': 'refs/heads/CurrentVersion', 'head': 'd461c074417c7f2d2f0d58952efe0955d45b7d0a', 'before': '394f16d7d602f1286e3a4bf6d4c5478a220ba1be', 'commits': [{'sha': 'd461c074417c7f2d2f0d58952efe0955d45b7d0a', 'author': {'email': 'thxrobert@gmail.com', 'name': 'WebSallyOne'}, 'message': 'v 1.1.0.0 #2', 'distinct': True, 'url': 'https://api.github.com/repos/WebSallyOne/DoctorVet/commits/d461c074417c7f2d2f0d58952efe0955d45b7d0a'}]}, 'public': True, 'created_at': '2018-03-31T15:57:19Z'}, {'id': '7462418705', 'type': 'PushEvent', 'actor': {'id': 35180334, 'login': 'Siyaoma812', 'display_login': 'Siyaoma812', 'gravatar_id': '', 'url': 'https://api.github.com/users/Siyaoma812', 'avatar_url': 'https://avatars.githubusercontent.com/u/35180334?'}, 'repo': {'id': 116971790, 'name': 'Siyaoma812/Coursera-Data-Science-Courses', 'url': 'https://api.github.com/repos/Siyaoma812/Coursera-Data-Science-Courses'}, 'payload': {'push_id': 2447720548, 'size': 1, 'distinct_size': 1, 'ref': 'refs/heads/master', 'head': '77e42a9dc081a3711d8d2aff491a64d3e62fd71a', 'before': '6e0f3ac1f4d924f5c3f8650a3a27451316b3d8bb', 'commits': [{'sha': '77e42a9dc081a3711d8d2aff491a64d3e62fd71a', 'author': {'email': 'masiel812@gmail.com', 'name': 'Siyao'}, 'message': 'add', 'distinct': True, 'url': 'https://api.github.com/repos/Siyaoma812/Coursera-Data-Science-Courses/commits/77e42a9dc081a3711d8d2aff491a64d3e62fd71a'}]}, 'public': True, 'created_at': '2018-03-31T15:57:19Z'}, {'id': '7462418702', 'type': 'PushEvent', 'actor': {'id': 30026208, 'login': 'montlikadani', 'display_login': 'montlikadani', 'gravatar_id': '', 'url': 'https://api.github.com/users/montlikadani', 'avatar_url': 'https://avatars.githubusercontent.com/u/30026208?'}, 'repo': {'id': 108844737, 'name': 'montlikadani/SetTheSpawn', 'url': 'https://api.github.com/repos/montlikadani/SetTheSpawn'}, 'payload': {'push_id': 2447720547, 'size': 1, 'distinct_size': 1, 'ref': 'refs/heads/master', 'head': '7b4ee234cb53405d1a71cbfe8a82d2380f499bdc', 'before': 'e1f667a0a4a44c168c8f3547ec02b44b9934b386', 'commits': [{'sha': '7b4ee234cb53405d1a71cbfe8a82d2380f499bdc', 'author': {'email': 'montlikada@gmail.com', 'name': 'montlikadani'}, 'message': 'Added some multiple permission', 'distinct': True, 'url': 'https://api.github.com/repos/montlikadani/SetTheSpawn/commits/7b4ee234cb53405d1a71cbfe8a82d2380f499bdc'}]}, 'public': True, 'created_at': '2018-03-31T15:57:19Z'}, {'id': '7462418701', 'type': 'PushEvent', 'actor': {'id': 4491850, 'login': 'brunopacheco1', 'display_login': 'brunopacheco1', 'gravatar_id': '', 'url': 'https://api.github.com/users/brunopacheco1', 'avatar_url': 'https://avatars.githubusercontent.com/u/4491850?'}, 'repo': {'id': 127525498, 'name': 'brunopacheco1/match-me', 'url': 'https://api.github.com/repos/brunopacheco1/match-me'}, 'payload': {'push_id': 2447720546, 'size': 1, 'distinct_size': 1, 'ref': 'refs/heads/master', 'head': 'f9bc6846a3271563acef4a62847f3c3da6278c64', 'before': '34633e45536363984d720381c9ce14decad159e1', 'commits': [{'sha': 'f9bc6846a3271563acef4a62847f3c3da6278c64', 'author': {'email': 'brunopacheco1@yahoo.com', 'name': 'Bruno Pacheco'}, 'message': 'Fixing elastic config.', 'distinct': True, 'url': 'https://api.github.com/repos/brunopacheco1/match-me/commits/f9bc6846a3271563acef4a62847f3c3da6278c64'}]}, 'public': True, 'created_at': '2018-03-31T15:57:19Z'}, {'id': '7462418703', 'type': 'WatchEvent', 'actor': {'id': 386621, 'login': 'sebastianthiel', 'display_login': 'sebastianthiel', 'gravatar_id': '', 'url': 'https://api.github.com/users/sebastianthiel', 'avatar_url': 'https://avatars.githubusercontent.com/u/386621?'}, 'repo': {'id': 15642573, 'name': 'lewish/asciiflow2', 'url': 'https://api.github.com/repos/lewish/asciiflow2'}, 'payload': {'action': 'started'}, 'public': True, 'created_at': '2018-03-31T15:57:19Z'}, {'id': '7462418698', 'type': 'CreateEvent', 'actor': {'id': 20208274, 'login': 'tovarnik', 'display_login': 'tovarnik', 'gravatar_id': '', 'url': 'https://api.github.com/users/tovarnik', 'avatar_url': 'https://avatars.githubusercontent.com/u/20208274?'}, 'repo': {'id': 127547441, 'name': 'tovarnik/Git-web', 'url': 'https://api.github.com/repos/tovarnik/Git-web'}, 'payload': {'ref': None, 'ref_type': 'repository', 'master_branch': 'master', 'description': None, 'pusher_type': 'user'}, 'public': True, 'created_at': '2018-03-31T15:57:19Z'}, {'id': '7462418697', 'type': 'PushEvent', 'actor': {'id': 10051299, 'login': 'sarveshpalav', 'display_login': 'sarveshpalav', 'gravatar_id': '', 'url': 'https://api.github.com/users/sarveshpalav', 'avatar_url': 'https://avatars.githubusercontent.com/u/10051299?'}, 'repo': {'id': 113273428, 'name': 'TiramisuProductions/Note-App-Android', 'url': 'https://api.github.com/repos/TiramisuProductions/Note-App-Android'}, 'payload': {'push_id': 2447720545, 'size': 1, 'distinct_size': 1, 'ref': 'refs/heads/sarvesh', 'head': '9d2a45d06762f3dfda6699fca2b672f5b9e27f7e', 'before': 'ca1e52b4eee28414f7d50ea7ad484f88b4d41f1c', 'commits': [{'sha': '9d2a45d06762f3dfda6699fca2b672f5b9e27f7e', 'author': {'email': 'sarveshpalav@gmail.com', 'name': 'Sarvesh Palav'}, 'message': 'Search bug fixed , update for contact with validation added', 'distinct': True, 'url': 'https://api.github.com/repos/TiramisuProductions/Note-App-Android/commits/9d2a45d06762f3dfda6699fca2b672f5b9e27f7e'}]}, 'public': True, 'created_at': '2018-03-31T15:57:19Z', 'org': {'id': 27158120, 'login': 'TiramisuProductions', 'gravatar_id': '', 'url': 'https://api.github.com/orgs/TiramisuProductions', 'avatar_url': 'https://avatars.githubusercontent.com/u/27158120?'}}, {'id': '7462418696', 'type': 'PushEvent', 'actor': {'id': 389181, 'login': 'thult304', 'display_login': 'thult304', 'gravatar_id': '', 'url': 'https://api.github.com/users/thult304', 'avatar_url': 'https://avatars.githubusercontent.com/u/389181?'}, 'repo': {'id': 127258163, 'name': 'thult304/TwitSplit', 'url': 'https://api.github.com/repos/thult304/TwitSplit'}, 'payload': {'push_id': 2447720544, 'size': 1, 'distinct_size': 1, 'ref': 'refs/heads/master', 'head': 'df25d8bf35b41160ce8f199f8cd4c33df0865bfb', 'before': 'd29625406604375d8e06ea5832dac8da89962b7b', 'commits': [{'sha': 'df25d8bf35b41160ce8f199f8cd4c33df0865bfb', 'author': {'email': 'thu@hoasung.vn', 'name': 'thu'}, 'message': 'Implement post screen: Use ViewModel instead of presenter', 'distinct': True, 'url': 'https://api.github.com/repos/thult304/TwitSplit/commits/df25d8bf35b41160ce8f199f8cd4c33df0865bfb'}]}, 'public': True, 'created_at': '2018-03-31T15:57:19Z'}, {'id': '7462418693', 'type': 'PushEvent', 'actor': {'id': 32229776, 'login': 'OneDollarr', 'display_login': 'OneDollarr', 'gravatar_id': '', 'url': 'https://api.github.com/users/OneDollarr', 'avatar_url': 'https://avatars.githubusercontent.com/u/32229776?'}, 'repo': {'id': 127547370, 'name': 'OneDollarr/SCT', 'url': 'https://api.github.com/repos/OneDollarr/SCT'}, 'payload': {'push_id': 2447720543, 'size': 1, 'distinct_size': 1, 'ref': 'refs/heads/master', 'head': 'eb9cff02f1363e7f8ecac2a76c98149ed6dfdacb', 'before': '23424bef1bbba4d0052d545de88e4a3ee58ee26c', 'commits': [{'sha': 'eb9cff02f1363e7f8ecac2a76c98149ed6dfdacb', 'author': {'email': '32229776+OneDollarr@users.noreply.github.com', 'name': 'OneDollarr'}, 'message': 'Add files via upload', 'distinct': True, 'url': 'https://api.github.com/repos/OneDollarr/SCT/commits/eb9cff02f1363e7f8ecac2a76c98149ed6dfdacb'}]}, 'public': True, 'created_at': '2018-03-31T15:57:19Z'}, {'id': '7462418691', 'type': 'WatchEvent', 'actor': {'id': 37379471, 'login': 'mlcz', 'display_login': 'mlcz', 'gravatar_id': '', 'url': 'https://api.github.com/users/mlcz', 'avatar_url': 'https://avatars.githubusercontent.com/u/37379471?'}, 'repo': {'id': 89050228, 'name': 'mitul45/expense-manager', 'url': 'https://api.github.com/repos/mitul45/expense-manager'}, 'payload': {'action': 'started'}, 'public': True, 'created_at': '2018-03-31T15:57:19Z'}, {'id': '7462418687', 'type': 'CreateEvent', 'actor': {'id': 22410944, 'login': 'xiangyisheng', 'display_login': 'xiangyisheng', 'gravatar_id': '', 'url': 'https://api.github.com/users/xiangyisheng', 'avatar_url': 'https://avatars.githubusercontent.com/u/22410944?'}, 'repo': {'id': 127538350, 'name': 'xiangyisheng/CSharpStudy', 'url': 'https://api.github.com/repos/xiangyisheng/CSharpStudy'}, 'payload': {'ref': 'master', 'ref_type': 'branch', 'master_branch': 'master', 'description': 'C#学习', 'pusher_type': 'user'}, 'public': True, 'created_at': '2018-03-31T15:57:18Z'}, {'id': '7462418686', 'type': 'PushEvent', 'actor': {'id': 1329505, 'login': 'izayoi256', 'display_login': 'izayoi256', 'gravatar_id': '', 'url': 'https://api.github.com/users/izayoi256', 'avatar_url': 'https://avatars.githubusercontent.com/u/1329505?'}, 'repo': {'id': 127545311, 'name': 'daisy-link/exchanger', 'url': 'https://api.github.com/repos/daisy-link/exchanger'}, 'payload': {'push_id': 2447720537, 'size': 1, 'distinct_size': 1, 'ref': 'refs/heads/master', 'head': 'c0febc441234f182e670044f874a6fa2964b4374', 'before': 'd158907a6832e6f0bc7f22a96f1c45d450ec5ff9', 'commits': [{'sha': 'c0febc441234f182e670044f874a6fa2964b4374', 'author': {'email': 'hama@daisy.link', 'name': 'hama'}, 'message': 'first commit', 'distinct': True, 'url': 'https://api.github.com/repos/daisy-link/exchanger/commits/c0febc441234f182e670044f874a6fa2964b4374'}]}, 'public': True, 'created_at': '2018-03-31T15:57:18Z', 'org': {'id': 16915210, 'login': 'daisy-link', 'gravatar_id': '', 'url': 'https://api.github.com/orgs/daisy-link', 'avatar_url': 'https://avatars.githubusercontent.com/u/16915210?'}}, {'id': '7462418684', 'type': 'PushEvent', 'actor': {'id': 18172307, 'login': 'RodrigoWP', 'display_login': 'RodrigoWP', 'gravatar_id': '', 'url': 'https://api.github.com/users/RodrigoWP', 'avatar_url': 'https://avatars.githubusercontent.com/u/18172307?'}, 'repo': {'id': 122339689, 'name': 'RodrigoWP/high-school', 'url': 'https://api.github.com/repos/RodrigoWP/high-school'}, 'payload': {'push_id': 2447720535, 'size': 1, 'distinct_size': 1, 'ref': 'refs/heads/master', 'head': 'a0bb1a9b2b2d90e5ecef6d983738a7bdc24046ee', 'before': 'e9b73607096b74bf3208865efd7807a37c9f63ad', 'commits': [{'sha': 'a0bb1a9b2b2d90e5ecef6d983738a7bdc24046ee', 'author': {'email': 'rodrigow1992@gmail.com', 'name': 'Rodrigo Wippel'}, 'message': 'remove app test', 'distinct': True, 'url': 'https://api.github.com/repos/RodrigoWP/high-school/commits/a0bb1a9b2b2d90e5ecef6d983738a7bdc24046ee'}]}, 'public': True, 'created_at': '2018-03-31T15:57:18Z'}, {'id': '7462418683', 'type': 'PushEvent', 'actor': {'id': 37953585, 'login': 'fklx1tow', 'display_login': 'fklx1tow', 'gravatar_id': '', 'url': 'https://api.github.com/users/fklx1tow', 'avatar_url': 'https://avatars.githubusercontent.com/u/37953585?'}, 'repo': {'id': 127542182, 'name': 'fklx1tow/fklx1tow.github.io', 'url': 'https://api.github.com/repos/fklx1tow/fklx1tow.github.io'}, 'payload': {'push_id': 2447720533, 'size': 1, 'distinct_size': 1, 'ref': 'refs/heads/master', 'head': '0fdc5c034a43db8a341e5cdcbe96226a337b17ed', 'before': '9f28105cd9cd0fd76eeaabfc4ccedc012d79cf88', 'commits': [{'sha': '0fdc5c034a43db8a341e5cdcbe96226a337b17ed', 'author': {'email': 'qvft0wwv6@mail.ru', 'name': 'James Skott'}, 'message': 'commit', 'distinct': True, 'url': 'https://api.github.com/repos/fklx1tow/fklx1tow.github.io/commits/0fdc5c034a43db8a341e5cdcbe96226a337b17ed'}]}, 'public': True, 'created_at': '2018-03-31T15:57:18Z'}, {'id': '7462418682', 'type': 'PushEvent', 'actor': {'id': 4003149, 'login': 'madumalt', 'display_login': 'madumalt', 'gravatar_id': '', 'url': 'https://api.github.com/users/madumalt', 'avatar_url': 'https://avatars.githubusercontent.com/u/4003149?'}, 'repo': {'id': 94880506, 'name': 'gihankarunarathne/curw-iot-server', 'url': 'https://api.github.com/repos/gihankarunarathne/curw-iot-server'}, 'payload': {'push_id': 2447720534, 'size': 2, 'distinct_size': 2, 'ref': 'refs/heads/master', 'head': 'ebe4748b6a651e20c9c30335aed0898c4547c8d7', 'before': 'aa2a57ae47da0f3ac1a5b8dfc5c89ff38e4793ad', 'commits': [{'sha': 'aaf3321fd3a2bc02a2dc90a04e8c0e7ce1855140', 'author': {'email': 'madumalt@gmail.com', 'name': 'madumalt'}, 'message': 'remove curw_ambewela temperature, add Tick', 'distinct': True, 'url': 'https://api.github.com/repos/gihankarunarathne/curw-iot-server/commits/aaf3321fd3a2bc02a2dc90a04e8c0e7ce1855140'}, {'sha': 'ebe4748b6a651e20c9c30335aed0898c4547c8d7', 'author': {'email': 'madumalt@users.noreply.github.com', 'name': 'Thilina Madumal'}, 'message': 'Merge pull request #13 from CUrW-SL/master\\n\\nremove curw_ambewela temperature, add Tick', 'distinct': True, 'url': 'https://api.github.com/repos/gihankarunarathne/curw-iot-server/commits/ebe4748b6a651e20c9c30335aed0898c4547c8d7'}]}, 'public': True, 'created_at': '2018-03-31T15:57:18Z'}]\n"
     ]
    }
   ],
   "source": [
    "print(r.json())"
   ]
  },
  {
   "cell_type": "code",
   "execution_count": 7,
   "metadata": {},
   "outputs": [
    {
     "ename": "TypeError",
     "evalue": "'method' object is not subscriptable",
     "output_type": "error",
     "traceback": [
      "\u001b[0;31m---------------------------------------------------------------------------\u001b[0m",
      "\u001b[0;31mTypeError\u001b[0m                                 Traceback (most recent call last)",
      "\u001b[0;32m<ipython-input-7-aa39360b5220>\u001b[0m in \u001b[0;36m<module>\u001b[0;34m()\u001b[0m\n\u001b[0;32m----> 1\u001b[0;31m \u001b[0mprint\u001b[0m\u001b[0;34m(\u001b[0m\u001b[0mr\u001b[0m\u001b[0;34m.\u001b[0m\u001b[0mjson\u001b[0m\u001b[0;34m[\u001b[0m\u001b[0;36m0\u001b[0m\u001b[0;34m]\u001b[0m\u001b[0;34m)\u001b[0m\u001b[0;34m\u001b[0m\u001b[0m\n\u001b[0m",
      "\u001b[0;31mTypeError\u001b[0m: 'method' object is not subscriptable"
     ]
    }
   ],
   "source": [
    "print(r.json[0])"
   ]
  },
  {
   "cell_type": "code",
   "execution_count": 8,
   "metadata": {},
   "outputs": [
    {
     "ename": "TypeError",
     "evalue": "'method' object is not subscriptable",
     "output_type": "error",
     "traceback": [
      "\u001b[0;31m---------------------------------------------------------------------------\u001b[0m",
      "\u001b[0;31mTypeError\u001b[0m                                 Traceback (most recent call last)",
      "\u001b[0;32m<ipython-input-8-3c2a117bf900>\u001b[0m in \u001b[0;36m<module>\u001b[0;34m()\u001b[0m\n\u001b[0;32m----> 1\u001b[0;31m \u001b[0mprint\u001b[0m\u001b[0;34m(\u001b[0m\u001b[0mr\u001b[0m\u001b[0;34m.\u001b[0m\u001b[0mjson\u001b[0m\u001b[0;34m[\u001b[0m\u001b[0;34m'id'\u001b[0m\u001b[0;34m]\u001b[0m\u001b[0;34m)\u001b[0m\u001b[0;34m\u001b[0m\u001b[0m\n\u001b[0m",
      "\u001b[0;31mTypeError\u001b[0m: 'method' object is not subscriptable"
     ]
    }
   ],
   "source": [
    "print(r.json['id'])"
   ]
  },
  {
   "cell_type": "code",
   "execution_count": 9,
   "metadata": {},
   "outputs": [
    {
     "ename": "TypeError",
     "evalue": "list indices must be integers or slices, not str",
     "output_type": "error",
     "traceback": [
      "\u001b[0;31m---------------------------------------------------------------------------\u001b[0m",
      "\u001b[0;31mTypeError\u001b[0m                                 Traceback (most recent call last)",
      "\u001b[0;32m<ipython-input-9-c8d4f9c991a3>\u001b[0m in \u001b[0;36m<module>\u001b[0;34m()\u001b[0m\n\u001b[0;32m----> 1\u001b[0;31m \u001b[0mprint\u001b[0m\u001b[0;34m(\u001b[0m\u001b[0mr\u001b[0m\u001b[0;34m.\u001b[0m\u001b[0mjson\u001b[0m\u001b[0;34m(\u001b[0m\u001b[0;34m)\u001b[0m\u001b[0;34m[\u001b[0m\u001b[0;34m'id'\u001b[0m\u001b[0;34m]\u001b[0m\u001b[0;34m)\u001b[0m\u001b[0;34m\u001b[0m\u001b[0m\n\u001b[0m",
      "\u001b[0;31mTypeError\u001b[0m: list indices must be integers or slices, not str"
     ]
    }
   ],
   "source": [
    "print(r.json()['id'])"
   ]
  },
  {
   "cell_type": "code",
   "execution_count": 10,
   "metadata": {},
   "outputs": [
    {
     "name": "stdout",
     "output_type": "stream",
     "text": [
      "{'id': '7462418734', 'type': 'CreateEvent', 'actor': {'id': 20266893, 'login': 'm4sterbunny', 'display_login': 'm4sterbunny', 'gravatar_id': '', 'url': 'https://api.github.com/users/m4sterbunny', 'avatar_url': 'https://avatars.githubusercontent.com/u/20266893?'}, 'repo': {'id': 121796564, 'name': 'OpenSecuritySummit/oss2018', 'url': 'https://api.github.com/repos/OpenSecuritySummit/oss2018'}, 'payload': {'ref': 'm4sterbunny-patch-4', 'ref_type': 'branch', 'master_branch': 'master', 'description': 'Open Security Summit 2018', 'pusher_type': 'user'}, 'public': True, 'created_at': '2018-03-31T15:57:21Z', 'org': {'id': 36542601, 'login': 'OpenSecuritySummit', 'gravatar_id': '', 'url': 'https://api.github.com/orgs/OpenSecuritySummit', 'avatar_url': 'https://avatars.githubusercontent.com/u/36542601?'}}\n"
     ]
    }
   ],
   "source": [
    "print(r.json()[0])"
   ]
  },
  {
   "cell_type": "code",
   "execution_count": 11,
   "metadata": {},
   "outputs": [
    {
     "ename": "SyntaxError",
     "evalue": "invalid syntax (<ipython-input-11-6f68d6cd1175>, line 1)",
     "output_type": "error",
     "traceback": [
      "\u001b[0;36m  File \u001b[0;32m\"<ipython-input-11-6f68d6cd1175>\"\u001b[0;36m, line \u001b[0;32m1\u001b[0m\n\u001b[0;31m    python3 coinmarket.py\u001b[0m\n\u001b[0m                     ^\u001b[0m\n\u001b[0;31mSyntaxError\u001b[0m\u001b[0;31m:\u001b[0m invalid syntax\n"
     ]
    }
   ],
   "source": [
    "python3 coinmarket.py"
   ]
  },
  {
   "cell_type": "code",
   "execution_count": 12,
   "metadata": {},
   "outputs": [
    {
     "ename": "NameError",
     "evalue": "name 'coinmarket' is not defined",
     "output_type": "error",
     "traceback": [
      "\u001b[0;31m---------------------------------------------------------------------------\u001b[0m",
      "\u001b[0;31mNameError\u001b[0m                                 Traceback (most recent call last)",
      "\u001b[0;32m<ipython-input-12-7f4ff7fd381e>\u001b[0m in \u001b[0;36m<module>\u001b[0;34m()\u001b[0m\n\u001b[0;32m----> 1\u001b[0;31m \u001b[0mcoinmarket\u001b[0m\u001b[0;34m.\u001b[0m\u001b[0mpy\u001b[0m\u001b[0;34m\u001b[0m\u001b[0m\n\u001b[0m",
      "\u001b[0;31mNameError\u001b[0m: name 'coinmarket' is not defined"
     ]
    }
   ],
   "source": [
    "coinmarket.py"
   ]
  },
  {
   "cell_type": "code",
   "execution_count": null,
   "metadata": {},
   "outputs": [
    {
     "name": "stdout",
     "output_type": "stream",
     "text": [
      "\n",
      "Welcome to the CoinMarketCap Explorer!\n",
      "Global cap of all cryptocurrencies: $270645316537.0\n",
      "Enter 'all' or 'name of crypto' (i.e. bitcoin) to see the name of the top 100 currencies or a specific currency\n",
      "\n",
      "Your choice: ethereum\n",
      "ETH:\t\t$408.683\n",
      "\n"
     ]
    }
   ],
   "source": [
    "import requests\n",
    "import json\n",
    "\n",
    "while True:\n",
    "    # base URLs\n",
    "    globalURL = \"https://api.coinmarketcap.com/v1/global/\"\n",
    "    tickerURL = \"https://api.coinmarketcap.com/v1/ticker/\"\n",
    "\n",
    "    # get data from globalURL\n",
    "    request = requests.get(globalURL)\n",
    "    data = request.json()\n",
    "    globalMarketCap = data['total_market_cap_usd']\n",
    "\n",
    "    # menu\n",
    "    print()\n",
    "    print(\"Welcome to the CoinMarketCap Explorer!\")\n",
    "    print(\"Global cap of all cryptocurrencies: $\" + str(globalMarketCap))\n",
    "    print(\"Enter 'all' or 'name of crypto' (i.e. bitcoin) to see the name of the top 100 currencies or a specific currency\")\n",
    "    print()\n",
    "    choice = input(\"Your choice: \")\n",
    "\n",
    "    if choice == \"all\":\n",
    "        request = requests.get(tickerURL)\n",
    "        data = request.json()\n",
    "\n",
    "        for x in data:\n",
    "            ticker = x['symbol']\n",
    "            price = x['price_usd']\n",
    "\n",
    "            print(ticker + \":\\t\\t$\" + price)\n",
    "        print()\n",
    "\n",
    "    else:\n",
    "        tickerURL += '/'+choice+'/'\n",
    "        request = requests.get(tickerURL)\n",
    "        data = request.json()\n",
    "\n",
    "        ticker = data[0]['symbol']\n",
    "        price = data[0]['price_usd']\n",
    "\n",
    "        print(ticker + \":\\t\\t$\" + price)\n",
    "        print()\n",
    "\n",
    "    choice2 = input(\"Again? (y/n): \")\n",
    "    if choice2 == \"y\":\n",
    "        continue\n",
    "    if choice2 == \"n\":\n",
    "        break\n",
    "\n"
   ]
  },
  {
   "cell_type": "code",
   "execution_count": null,
   "metadata": {},
   "outputs": [],
   "source": []
  }
 ],
 "metadata": {
  "kernelspec": {
   "display_name": "Python 3",
   "language": "python",
   "name": "python3"
  },
  "language_info": {
   "codemirror_mode": {
    "name": "ipython",
    "version": 3
   },
   "file_extension": ".py",
   "mimetype": "text/x-python",
   "name": "python",
   "nbconvert_exporter": "python",
   "pygments_lexer": "ipython3",
   "version": "3.6.3"
  }
 },
 "nbformat": 4,
 "nbformat_minor": 2
}
