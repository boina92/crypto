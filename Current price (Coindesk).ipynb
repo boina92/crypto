{
 "cells": [
  {
   "cell_type": "code",
   "execution_count": 1,
   "metadata": {},
   "outputs": [],
   "source": [
    "import requests"
   ]
  },
  {
   "cell_type": "code",
   "execution_count": 2,
   "metadata": {},
   "outputs": [
    {
     "ename": "SyntaxError",
     "evalue": "EOL while scanning string literal (<ipython-input-2-97607022ddc1>, line 1)",
     "output_type": "error",
     "traceback": [
      "\u001b[0;36m  File \u001b[0;32m\"<ipython-input-2-97607022ddc1>\"\u001b[0;36m, line \u001b[0;32m1\u001b[0m\n\u001b[0;31m    r= requests.get('https://api.coindesk.com/v1/bpi/currentprice.json\u001b[0m\n\u001b[0m                                                                      ^\u001b[0m\n\u001b[0;31mSyntaxError\u001b[0m\u001b[0;31m:\u001b[0m EOL while scanning string literal\n"
     ]
    }
   ],
   "source": [
    "r= requests.get('https://api.coindesk.com/v1/bpi/currentprice.json\n",
    "')"
   ]
  },
  {
   "cell_type": "code",
   "execution_count": 3,
   "metadata": {},
   "outputs": [
    {
     "ename": "SyntaxError",
     "evalue": "EOL while scanning string literal (<ipython-input-3-51ad825b4973>, line 1)",
     "output_type": "error",
     "traceback": [
      "\u001b[0;36m  File \u001b[0;32m\"<ipython-input-3-51ad825b4973>\"\u001b[0;36m, line \u001b[0;32m1\u001b[0m\n\u001b[0;31m    r = requests.get('https://api.coindesk.com/v1/bpi/currentprice.json\u001b[0m\n\u001b[0m                                                                       ^\u001b[0m\n\u001b[0;31mSyntaxError\u001b[0m\u001b[0;31m:\u001b[0m EOL while scanning string literal\n"
     ]
    }
   ],
   "source": [
    "r = requests.get('https://api.coindesk.com/v1/bpi/currentprice.json\n",
    "')"
   ]
  },
  {
   "cell_type": "code",
   "execution_count": 4,
   "metadata": {},
   "outputs": [
    {
     "ename": "SyntaxError",
     "evalue": "EOL while scanning string literal (<ipython-input-4-69828f2ff988>, line 1)",
     "output_type": "error",
     "traceback": [
      "\u001b[0;36m  File \u001b[0;32m\"<ipython-input-4-69828f2ff988>\"\u001b[0;36m, line \u001b[0;32m1\u001b[0m\n\u001b[0;31m    r = requests.get(\"https://api.coindesk.com/v1/bpi/currentprice.json\u001b[0m\n\u001b[0m                                                                       ^\u001b[0m\n\u001b[0;31mSyntaxError\u001b[0m\u001b[0;31m:\u001b[0m EOL while scanning string literal\n"
     ]
    }
   ],
   "source": [
    "r = requests.get(\"https://api.coindesk.com/v1/bpi/currentprice.json\n",
    "\")"
   ]
  },
  {
   "cell_type": "code",
   "execution_count": 5,
   "metadata": {},
   "outputs": [],
   "source": [
    "import requests"
   ]
  },
  {
   "cell_type": "code",
   "execution_count": 6,
   "metadata": {},
   "outputs": [],
   "source": [
    "r = requests.get(\"https://api.coinmarketcap.com/v1/global/\")"
   ]
  },
  {
   "cell_type": "code",
   "execution_count": 7,
   "metadata": {},
   "outputs": [
    {
     "name": "stdout",
     "output_type": "stream",
     "text": [
      "{'total_market_cap_usd': 267170375590.0, 'total_24h_volume_usd': 12462908102.0, 'bitcoin_percentage_of_market_cap': 44.93, 'active_currencies': 918, 'active_assets': 677, 'active_markets': 9906, 'last_updated': 1522511967}\n"
     ]
    }
   ],
   "source": [
    "print(r.json())"
   ]
  },
  {
   "cell_type": "code",
   "execution_count": 8,
   "metadata": {},
   "outputs": [
    {
     "ename": "SyntaxError",
     "evalue": "EOL while scanning string literal (<ipython-input-8-f87671e790cb>, line 2)",
     "output_type": "error",
     "traceback": [
      "\u001b[0;36m  File \u001b[0;32m\"<ipython-input-8-f87671e790cb>\"\u001b[0;36m, line \u001b[0;32m2\u001b[0m\n\u001b[0;31m    r = requests.get(\"https://api.coindesk.com/v1/bpi/currentprice.json\u001b[0m\n\u001b[0m                                                                       ^\u001b[0m\n\u001b[0;31mSyntaxError\u001b[0m\u001b[0;31m:\u001b[0m EOL while scanning string literal\n"
     ]
    }
   ],
   "source": [
    "import requests\n",
    "r = requests.get(\"https://api.coindesk.com/v1/bpi/currentprice.json\n",
    "\")"
   ]
  },
  {
   "cell_type": "code",
   "execution_count": 9,
   "metadata": {},
   "outputs": [
    {
     "ename": "SyntaxError",
     "evalue": "EOL while scanning string literal (<ipython-input-9-6ba1365a06ac>, line 1)",
     "output_type": "error",
     "traceback": [
      "\u001b[0;36m  File \u001b[0;32m\"<ipython-input-9-6ba1365a06ac>\"\u001b[0;36m, line \u001b[0;32m1\u001b[0m\n\u001b[0;31m    r = requests.get(\"https://api.coindesk.com/v1/bpi/currentprice.json\u001b[0m\n\u001b[0m                                                                       ^\u001b[0m\n\u001b[0;31mSyntaxError\u001b[0m\u001b[0;31m:\u001b[0m EOL while scanning string literal\n"
     ]
    }
   ],
   "source": [
    "r = requests.get(\"https://api.coindesk.com/v1/bpi/currentprice.json\n",
    "\"\")"
   ]
  },
  {
   "cell_type": "code",
   "execution_count": 10,
   "metadata": {},
   "outputs": [
    {
     "ename": "SyntaxError",
     "evalue": "EOL while scanning string literal (<ipython-input-10-51ad825b4973>, line 1)",
     "output_type": "error",
     "traceback": [
      "\u001b[0;36m  File \u001b[0;32m\"<ipython-input-10-51ad825b4973>\"\u001b[0;36m, line \u001b[0;32m1\u001b[0m\n\u001b[0;31m    r = requests.get('https://api.coindesk.com/v1/bpi/currentprice.json\u001b[0m\n\u001b[0m                                                                       ^\u001b[0m\n\u001b[0;31mSyntaxError\u001b[0m\u001b[0;31m:\u001b[0m EOL while scanning string literal\n"
     ]
    }
   ],
   "source": [
    "r = requests.get('https://api.coindesk.com/v1/bpi/currentprice.json\n",
    "')"
   ]
  },
  {
   "cell_type": "code",
   "execution_count": 11,
   "metadata": {},
   "outputs": [
    {
     "name": "stdout",
     "output_type": "stream",
     "text": [
      "{'time': {'updated': 'Mar 31, 2018 16:06:00 UTC', 'updatedISO': '2018-03-31T16:06:00+00:00', 'updateduk': 'Mar 31, 2018 at 17:06 BST'}, 'disclaimer': 'This data was produced from the CoinDesk Bitcoin Price Index (USD). Non-USD currency data converted using hourly conversion rate from openexchangerates.org', 'chartName': 'Bitcoin', 'bpi': {'USD': {'code': 'USD', 'symbol': '&#36;', 'rate': '7,098.0813', 'description': 'United States Dollar', 'rate_float': 7098.0813}, 'GBP': {'code': 'GBP', 'symbol': '&pound;', 'rate': '5,063.5582', 'description': 'British Pound Sterling', 'rate_float': 5063.5582}, 'EUR': {'code': 'EUR', 'symbol': '&euro;', 'rate': '5,757.2466', 'description': 'Euro', 'rate_float': 5757.2466}}}\n"
     ]
    }
   ],
   "source": [
    "import requests\n",
    "r = requests.get('https://api.coindesk.com/v1/bpi/currentprice.json')\n",
    "print(r.json())"
   ]
  },
  {
   "cell_type": "code",
   "execution_count": 12,
   "metadata": {},
   "outputs": [
    {
     "name": "stdout",
     "output_type": "stream",
     "text": [
      "{'time': {'updated': 'Mar 31, 2018 16:07:00 UTC', 'updatedISO': '2018-03-31T16:07:00+00:00', 'updateduk': 'Mar 31, 2018 at 17:07 BST'}, 'disclaimer': 'This data was produced from the CoinDesk Bitcoin Price Index (USD). Non-USD currency data converted using hourly conversion rate from openexchangerates.org', 'chartName': 'Bitcoin', 'bpi': {'USD': {'code': 'USD', 'symbol': '&#36;', 'rate': '7,104.6738', 'description': 'United States Dollar', 'rate_float': 7104.6738}, 'GBP': {'code': 'GBP', 'symbol': '&pound;', 'rate': '5,068.2611', 'description': 'British Pound Sterling', 'rate_float': 5068.2611}, 'EUR': {'code': 'EUR', 'symbol': '&euro;', 'rate': '5,762.5938', 'description': 'Euro', 'rate_float': 5762.5938}}}\n"
     ]
    }
   ],
   "source": [
    "import requests\n",
    "r = requests.get('https://api.coindesk.com/v1/bpi/currentprice.json')\n",
    "print(r.json())"
   ]
  },
  {
   "cell_type": "code",
   "execution_count": 1,
   "metadata": {},
   "outputs": [
    {
     "ename": "SyntaxError",
     "evalue": "EOL while scanning string literal (<ipython-input-1-8b93a90047e3>, line 2)",
     "output_type": "error",
     "traceback": [
      "\u001b[0;36m  File \u001b[0;32m\"<ipython-input-1-8b93a90047e3>\"\u001b[0;36m, line \u001b[0;32m2\u001b[0m\n\u001b[0;31m    r = requests.get('https://api.coindesk.com/v1/bpi/currentprice.json\u001b[0m\n\u001b[0m                                                                       ^\u001b[0m\n\u001b[0;31mSyntaxError\u001b[0m\u001b[0;31m:\u001b[0m EOL while scanning string literal\n"
     ]
    }
   ],
   "source": [
    "import requests\n",
    "r = requests.get('https://api.coindesk.com/v1/bpi/currentprice.json\n",
    "')\n",
    "print(r.json())"
   ]
  },
  {
   "cell_type": "code",
   "execution_count": 2,
   "metadata": {},
   "outputs": [],
   "source": [
    "import requests"
   ]
  },
  {
   "cell_type": "code",
   "execution_count": 3,
   "metadata": {},
   "outputs": [],
   "source": [
    "r = requests.get('https://api.coindesk.com/v1/bpi/currentprice.json')"
   ]
  },
  {
   "cell_type": "code",
   "execution_count": 4,
   "metadata": {},
   "outputs": [
    {
     "name": "stdout",
     "output_type": "stream",
     "text": [
      "{'time': {'updated': 'Mar 31, 2018 16:09:00 UTC', 'updatedISO': '2018-03-31T16:09:00+00:00', 'updateduk': 'Mar 31, 2018 at 17:09 BST'}, 'disclaimer': 'This data was produced from the CoinDesk Bitcoin Price Index (USD). Non-USD currency data converted using hourly conversion rate from openexchangerates.org', 'chartName': 'Bitcoin', 'bpi': {'USD': {'code': 'USD', 'symbol': '&#36;', 'rate': '7,104.7188', 'description': 'United States Dollar', 'rate_float': 7104.7188}, 'GBP': {'code': 'GBP', 'symbol': '&pound;', 'rate': '5,068.2932', 'description': 'British Pound Sterling', 'rate_float': 5068.2932}, 'EUR': {'code': 'EUR', 'symbol': '&euro;', 'rate': '5,762.6303', 'description': 'Euro', 'rate_float': 5762.6303}}}\n"
     ]
    }
   ],
   "source": [
    "print(r.json())"
   ]
  },
  {
   "cell_type": "code",
   "execution_count": 5,
   "metadata": {},
   "outputs": [
    {
     "name": "stdout",
     "output_type": "stream",
     "text": [
      "{'USD': {'code': 'USD', 'symbol': '&#36;', 'rate': '7,104.7188', 'description': 'United States Dollar', 'rate_float': 7104.7188}, 'GBP': {'code': 'GBP', 'symbol': '&pound;', 'rate': '5,068.2932', 'description': 'British Pound Sterling', 'rate_float': 5068.2932}, 'EUR': {'code': 'EUR', 'symbol': '&euro;', 'rate': '5,762.6303', 'description': 'Euro', 'rate_float': 5762.6303}}\n"
     ]
    }
   ],
   "source": [
    "print(r.json()['bpi'])"
   ]
  },
  {
   "cell_type": "code",
   "execution_count": 6,
   "metadata": {},
   "outputs": [
    {
     "ename": "SyntaxError",
     "evalue": "invalid syntax (<ipython-input-6-3d98c641ffdc>, line 1)",
     "output_type": "error",
     "traceback": [
      "\u001b[0;36m  File \u001b[0;32m\"<ipython-input-6-3d98c641ffdc>\"\u001b[0;36m, line \u001b[0;32m1\u001b[0m\n\u001b[0;31m    print(r.json()['bpi']['USD']])\u001b[0m\n\u001b[0m                                ^\u001b[0m\n\u001b[0;31mSyntaxError\u001b[0m\u001b[0;31m:\u001b[0m invalid syntax\n"
     ]
    }
   ],
   "source": [
    "print(r.json()['bpi']['USD']])"
   ]
  },
  {
   "cell_type": "code",
   "execution_count": 7,
   "metadata": {},
   "outputs": [
    {
     "name": "stdout",
     "output_type": "stream",
     "text": [
      "{'code': 'USD', 'symbol': '&#36;', 'rate': '7,104.7188', 'description': 'United States Dollar', 'rate_float': 7104.7188}\n"
     ]
    }
   ],
   "source": [
    "print(r.json()['bpi']['USD'])"
   ]
  },
  {
   "cell_type": "code",
   "execution_count": 8,
   "metadata": {},
   "outputs": [
    {
     "name": "stdout",
     "output_type": "stream",
     "text": [
      "7,104.7188\n"
     ]
    }
   ],
   "source": [
    "print(r.json()['bpi']['USD']['rate'])"
   ]
  },
  {
   "cell_type": "code",
   "execution_count": 9,
   "metadata": {},
   "outputs": [],
   "source": [
    "current_price = \"The current price of bitcoin is\""
   ]
  },
  {
   "cell_type": "code",
   "execution_count": 10,
   "metadata": {},
   "outputs": [],
   "source": [
    "rate = r.json()['bpi']['USD']['rate']"
   ]
  },
  {
   "cell_type": "code",
   "execution_count": 11,
   "metadata": {},
   "outputs": [
    {
     "name": "stdout",
     "output_type": "stream",
     "text": [
      "The current price of bitcoin is7,104.7188\n"
     ]
    }
   ],
   "source": [
    "print(current_price + rate)"
   ]
  },
  {
   "cell_type": "code",
   "execution_count": 12,
   "metadata": {},
   "outputs": [],
   "source": [
    "current_price = \"The current price of bitcoin is \""
   ]
  },
  {
   "cell_type": "code",
   "execution_count": 13,
   "metadata": {},
   "outputs": [
    {
     "name": "stdout",
     "output_type": "stream",
     "text": [
      "The current price of bitcoin is 7,104.7188\n"
     ]
    }
   ],
   "source": [
    "print(current_price + rate)"
   ]
  },
  {
   "cell_type": "code",
   "execution_count": null,
   "metadata": {},
   "outputs": [],
   "source": []
  },
  {
   "cell_type": "code",
   "execution_count": null,
   "metadata": {},
   "outputs": [],
   "source": []
  }
 ],
 "metadata": {
  "kernelspec": {
   "display_name": "Python 3",
   "language": "python",
   "name": "python3"
  },
  "language_info": {
   "codemirror_mode": {
    "name": "ipython",
    "version": 3
   },
   "file_extension": ".py",
   "mimetype": "text/x-python",
   "name": "python",
   "nbconvert_exporter": "python",
   "pygments_lexer": "ipython3",
   "version": "3.6.3"
  }
 },
 "nbformat": 4,
 "nbformat_minor": 2
}
