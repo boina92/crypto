{
 "cells": [
  {
   "cell_type": "code",
   "execution_count": 1,
   "metadata": {},
   "outputs": [
    {
     "name": "stdout",
     "output_type": "stream",
     "text": [
      "{'bpi': {'2018-02-28': 10309.6413, '2018-03-01': 10907.59, '2018-03-02': 11019.5213, '2018-03-03': 11438.6513, '2018-03-04': 11479.7313, '2018-03-05': 11432.9825, '2018-03-06': 10709.5275, '2018-03-07': 9906.8, '2018-03-08': 9299.2838, '2018-03-09': 9237.05, '2018-03-10': 8787.1638, '2018-03-11': 9532.7413, '2018-03-12': 9118.2713, '2018-03-13': 9144.1475, '2018-03-14': 8196.8975, '2018-03-15': 8256.9938, '2018-03-16': 8269.3275, '2018-03-17': 7862.1088, '2018-03-18': 8196.0225, '2018-03-19': 8594.1913, '2018-03-20': 8915.9038, '2018-03-21': 8895.4, '2018-03-22': 8712.8913, '2018-03-23': 8918.7438, '2018-03-24': 8535.8938, '2018-03-25': 8449.835, '2018-03-26': 8138.3363, '2018-03-27': 7790.1575, '2018-03-28': 7937.205, '2018-03-29': 7086.4875, '2018-03-30': 6844.3213}, 'disclaimer': 'This data was produced from the CoinDesk Bitcoin Price Index. BPI value data returned as USD.', 'time': {'updated': 'Mar 31, 2018 00:03:00 UTC', 'updatedISO': '2018-03-31T00:03:00+00:00'}}\n"
     ]
    }
   ],
   "source": [
    "import requests\n",
    "r = requests.get('https://api.coindesk.com/v1/bpi/historical/close.json')\n",
    "print(r.json())"
   ]
  },
  {
   "cell_type": "code",
   "execution_count": 2,
   "metadata": {},
   "outputs": [],
   "source": [
    "coindeskURL = 'https://api.coindesk.com/v1/bpi/historical/close.json'"
   ]
  },
  {
   "cell_type": "code",
   "execution_count": 3,
   "metadata": {},
   "outputs": [
    {
     "name": "stdout",
     "output_type": "stream",
     "text": [
      "{'bpi': {'2018-02-28': 10309.6413, '2018-03-01': 10907.59, '2018-03-02': 11019.5213, '2018-03-03': 11438.6513, '2018-03-04': 11479.7313, '2018-03-05': 11432.9825, '2018-03-06': 10709.5275, '2018-03-07': 9906.8, '2018-03-08': 9299.2838, '2018-03-09': 9237.05, '2018-03-10': 8787.1638, '2018-03-11': 9532.7413, '2018-03-12': 9118.2713, '2018-03-13': 9144.1475, '2018-03-14': 8196.8975, '2018-03-15': 8256.9938, '2018-03-16': 8269.3275, '2018-03-17': 7862.1088, '2018-03-18': 8196.0225, '2018-03-19': 8594.1913, '2018-03-20': 8915.9038, '2018-03-21': 8895.4, '2018-03-22': 8712.8913, '2018-03-23': 8918.7438, '2018-03-24': 8535.8938, '2018-03-25': 8449.835, '2018-03-26': 8138.3363, '2018-03-27': 7790.1575, '2018-03-28': 7937.205, '2018-03-29': 7086.4875, '2018-03-30': 6844.3213}, 'disclaimer': 'This data was produced from the CoinDesk Bitcoin Price Index. BPI value data returned as USD.', 'time': {'updated': 'Mar 31, 2018 00:03:00 UTC', 'updatedISO': '2018-03-31T00:03:00+00:00'}}\n"
     ]
    }
   ],
   "source": [
    "r = requests.get(coindeskURL)\n",
    "print(r.json())"
   ]
  },
  {
   "cell_type": "code",
   "execution_count": 4,
   "metadata": {},
   "outputs": [
    {
     "name": "stdout",
     "output_type": "stream",
     "text": [
      "{'bpi': {'2018-03-30': 6844.3213}, 'disclaimer': 'This data was produced from the CoinDesk Bitcoin Price Index. BPI value data returned as USD.', 'time': {'updated': 'Mar 31, 2018 00:03:00 UTC', 'updatedISO': '2018-03-31T00:03:00+00:00'}}\n"
     ]
    }
   ],
   "source": [
    "r1= requests.get(coindeskURL+'?for=yesterday')\n",
    "print(r1.json())"
   ]
  },
  {
   "cell_type": "code",
   "execution_count": 5,
   "metadata": {},
   "outputs": [
    {
     "ename": "TypeError",
     "evalue": "string indices must be integers",
     "output_type": "error",
     "traceback": [
      "\u001b[0;31m---------------------------------------------------------------------------\u001b[0m",
      "\u001b[0;31mTypeError\u001b[0m                                 Traceback (most recent call last)",
      "\u001b[0;32m<ipython-input-5-3f741345b960>\u001b[0m in \u001b[0;36m<module>\u001b[0;34m()\u001b[0m\n\u001b[0;32m----> 1\u001b[0;31m \u001b[0mr1\u001b[0m\u001b[0;34m=\u001b[0m \u001b[0mrequests\u001b[0m\u001b[0;34m.\u001b[0m\u001b[0mget\u001b[0m\u001b[0;34m(\u001b[0m\u001b[0mcoindeskURL\u001b[0m\u001b[0;34m+\u001b[0m\u001b[0;34m'?for=yesterday'\u001b[0m\u001b[0;34m[\u001b[0m\u001b[0;34m'bpi'\u001b[0m\u001b[0;34m]\u001b[0m\u001b[0;34m)\u001b[0m\u001b[0;34m\u001b[0m\u001b[0m\n\u001b[0m\u001b[1;32m      2\u001b[0m \u001b[0mprint\u001b[0m\u001b[0;34m(\u001b[0m\u001b[0mr1\u001b[0m\u001b[0;34m.\u001b[0m\u001b[0mjson\u001b[0m\u001b[0;34m(\u001b[0m\u001b[0;34m)\u001b[0m\u001b[0;34m)\u001b[0m\u001b[0;34m\u001b[0m\u001b[0m\n",
      "\u001b[0;31mTypeError\u001b[0m: string indices must be integers"
     ]
    }
   ],
   "source": [
    "r1= requests.get(coindeskURL+'?for=yesterday'['bpi'])\n",
    "print(r1.json())"
   ]
  },
  {
   "cell_type": "code",
   "execution_count": 6,
   "metadata": {},
   "outputs": [
    {
     "name": "stdout",
     "output_type": "stream",
     "text": [
      "{'2018-03-30': 6844.3213}\n"
     ]
    }
   ],
   "source": [
    "r1= requests.get(coindeskURL+'?for=yesterday')\n",
    "print(r1.json()['bpi'])"
   ]
  },
  {
   "cell_type": "code",
   "execution_count": 7,
   "metadata": {},
   "outputs": [
    {
     "ename": "KeyError",
     "evalue": "0",
     "output_type": "error",
     "traceback": [
      "\u001b[0;31m---------------------------------------------------------------------------\u001b[0m",
      "\u001b[0;31mKeyError\u001b[0m                                  Traceback (most recent call last)",
      "\u001b[0;32m<ipython-input-7-85af22d3f467>\u001b[0m in \u001b[0;36m<module>\u001b[0;34m()\u001b[0m\n\u001b[1;32m      1\u001b[0m \u001b[0mr1\u001b[0m\u001b[0;34m=\u001b[0m \u001b[0mrequests\u001b[0m\u001b[0;34m.\u001b[0m\u001b[0mget\u001b[0m\u001b[0;34m(\u001b[0m\u001b[0mcoindeskURL\u001b[0m\u001b[0;34m+\u001b[0m\u001b[0;34m'?for=yesterday'\u001b[0m\u001b[0;34m)\u001b[0m\u001b[0;34m\u001b[0m\u001b[0m\n\u001b[0;32m----> 2\u001b[0;31m \u001b[0mprint\u001b[0m\u001b[0;34m(\u001b[0m\u001b[0mr1\u001b[0m\u001b[0;34m.\u001b[0m\u001b[0mjson\u001b[0m\u001b[0;34m(\u001b[0m\u001b[0;34m)\u001b[0m\u001b[0;34m[\u001b[0m\u001b[0;36m0\u001b[0m\u001b[0;34m]\u001b[0m\u001b[0;34m)\u001b[0m\u001b[0;34m\u001b[0m\u001b[0m\n\u001b[0m",
      "\u001b[0;31mKeyError\u001b[0m: 0"
     ]
    }
   ],
   "source": [
    "r1= requests.get(coindeskURL+'?for=yesterday')\n",
    "print(r1.json()[0])"
   ]
  },
  {
   "cell_type": "code",
   "execution_count": 8,
   "metadata": {},
   "outputs": [
    {
     "ename": "KeyError",
     "evalue": "0",
     "output_type": "error",
     "traceback": [
      "\u001b[0;31m---------------------------------------------------------------------------\u001b[0m",
      "\u001b[0;31mKeyError\u001b[0m                                  Traceback (most recent call last)",
      "\u001b[0;32m<ipython-input-8-1f6479ef1465>\u001b[0m in \u001b[0;36m<module>\u001b[0;34m()\u001b[0m\n\u001b[1;32m      1\u001b[0m \u001b[0mr\u001b[0m \u001b[0;34m=\u001b[0m \u001b[0mrequests\u001b[0m\u001b[0;34m.\u001b[0m\u001b[0mget\u001b[0m\u001b[0;34m(\u001b[0m\u001b[0mcoindeskURL\u001b[0m\u001b[0;34m)\u001b[0m\u001b[0;34m\u001b[0m\u001b[0m\n\u001b[0;32m----> 2\u001b[0;31m \u001b[0mprint\u001b[0m\u001b[0;34m(\u001b[0m\u001b[0mr\u001b[0m\u001b[0;34m.\u001b[0m\u001b[0mjson\u001b[0m\u001b[0;34m(\u001b[0m\u001b[0;34m)\u001b[0m\u001b[0;34m[\u001b[0m\u001b[0;36m0\u001b[0m\u001b[0;34m]\u001b[0m\u001b[0;34m)\u001b[0m\u001b[0;34m\u001b[0m\u001b[0m\n\u001b[0m",
      "\u001b[0;31mKeyError\u001b[0m: 0"
     ]
    }
   ],
   "source": [
    "r = requests.get(coindeskURL)\n",
    "print(r.json()[0])"
   ]
  },
  {
   "cell_type": "code",
   "execution_count": 9,
   "metadata": {},
   "outputs": [
    {
     "ename": "KeyError",
     "evalue": "1",
     "output_type": "error",
     "traceback": [
      "\u001b[0;31m---------------------------------------------------------------------------\u001b[0m",
      "\u001b[0;31mKeyError\u001b[0m                                  Traceback (most recent call last)",
      "\u001b[0;32m<ipython-input-9-aedfe2592c7c>\u001b[0m in \u001b[0;36m<module>\u001b[0;34m()\u001b[0m\n\u001b[1;32m      1\u001b[0m \u001b[0mr\u001b[0m \u001b[0;34m=\u001b[0m \u001b[0mrequests\u001b[0m\u001b[0;34m.\u001b[0m\u001b[0mget\u001b[0m\u001b[0;34m(\u001b[0m\u001b[0mcoindeskURL\u001b[0m\u001b[0;34m)\u001b[0m\u001b[0;34m\u001b[0m\u001b[0m\n\u001b[0;32m----> 2\u001b[0;31m \u001b[0mprint\u001b[0m\u001b[0;34m(\u001b[0m\u001b[0mr\u001b[0m\u001b[0;34m.\u001b[0m\u001b[0mjson\u001b[0m\u001b[0;34m(\u001b[0m\u001b[0;34m)\u001b[0m\u001b[0;34m[\u001b[0m\u001b[0;36m1\u001b[0m\u001b[0;34m]\u001b[0m\u001b[0;34m)\u001b[0m\u001b[0;34m\u001b[0m\u001b[0m\n\u001b[0m",
      "\u001b[0;31mKeyError\u001b[0m: 1"
     ]
    }
   ],
   "source": [
    "r = requests.get(coindeskURL)\n",
    "print(r.json()[1])"
   ]
  },
  {
   "cell_type": "code",
   "execution_count": 10,
   "metadata": {},
   "outputs": [
    {
     "name": "stdout",
     "output_type": "stream",
     "text": [
      "{'bpi': {'2018-02-28': 10309.6413, '2018-03-01': 10907.59, '2018-03-02': 11019.5213, '2018-03-03': 11438.6513, '2018-03-04': 11479.7313, '2018-03-05': 11432.9825, '2018-03-06': 10709.5275, '2018-03-07': 9906.8, '2018-03-08': 9299.2838, '2018-03-09': 9237.05, '2018-03-10': 8787.1638, '2018-03-11': 9532.7413, '2018-03-12': 9118.2713, '2018-03-13': 9144.1475, '2018-03-14': 8196.8975, '2018-03-15': 8256.9938, '2018-03-16': 8269.3275, '2018-03-17': 7862.1088, '2018-03-18': 8196.0225, '2018-03-19': 8594.1913, '2018-03-20': 8915.9038, '2018-03-21': 8895.4, '2018-03-22': 8712.8913, '2018-03-23': 8918.7438, '2018-03-24': 8535.8938, '2018-03-25': 8449.835, '2018-03-26': 8138.3363, '2018-03-27': 7790.1575, '2018-03-28': 7937.205, '2018-03-29': 7086.4875, '2018-03-30': 6844.3213}, 'disclaimer': 'This data was produced from the CoinDesk Bitcoin Price Index. BPI value data returned as USD.', 'time': {'updated': 'Mar 31, 2018 00:03:00 UTC', 'updatedISO': '2018-03-31T00:03:00+00:00'}}\n"
     ]
    }
   ],
   "source": [
    "r = requests.get(coindeskURL)\n",
    "print(r.json())"
   ]
  },
  {
   "cell_type": "code",
   "execution_count": 11,
   "metadata": {},
   "outputs": [
    {
     "name": "stdout",
     "output_type": "stream",
     "text": [
      "{'2018-02-28': 10309.6413, '2018-03-01': 10907.59, '2018-03-02': 11019.5213, '2018-03-03': 11438.6513, '2018-03-04': 11479.7313, '2018-03-05': 11432.9825, '2018-03-06': 10709.5275, '2018-03-07': 9906.8, '2018-03-08': 9299.2838, '2018-03-09': 9237.05, '2018-03-10': 8787.1638, '2018-03-11': 9532.7413, '2018-03-12': 9118.2713, '2018-03-13': 9144.1475, '2018-03-14': 8196.8975, '2018-03-15': 8256.9938, '2018-03-16': 8269.3275, '2018-03-17': 7862.1088, '2018-03-18': 8196.0225, '2018-03-19': 8594.1913, '2018-03-20': 8915.9038, '2018-03-21': 8895.4, '2018-03-22': 8712.8913, '2018-03-23': 8918.7438, '2018-03-24': 8535.8938, '2018-03-25': 8449.835, '2018-03-26': 8138.3363, '2018-03-27': 7790.1575, '2018-03-28': 7937.205, '2018-03-29': 7086.4875, '2018-03-30': 6844.3213}\n"
     ]
    }
   ],
   "source": [
    "r = requests.get(coindeskURL)\n",
    "print(r.json()['bpi'])"
   ]
  },
  {
   "cell_type": "code",
   "execution_count": 12,
   "metadata": {},
   "outputs": [
    {
     "name": "stdout",
     "output_type": "stream",
     "text": [
      "[{'id': 'bitcoin', 'name': 'Bitcoin', 'symbol': 'BTC', 'rank': '1', 'price_usd': '7155.73', 'price_btc': '1.0', '24h_volume_usd': '5066990000.0', 'market_cap_usd': '121289530476', 'available_supply': '16949987.0', 'total_supply': '16949987.0', 'max_supply': '21000000.0', 'percent_change_1h': '0.95', 'percent_change_24h': '5.9', 'percent_change_7d': '-19.51', 'last_updated': '1522514667'}, {'id': 'ethereum', 'name': 'Ethereum', 'symbol': 'ETH', 'rank': '2', 'price_usd': '408.591', 'price_btc': '0.0571931', '24h_volume_usd': '1480190000.0', 'market_cap_usd': '40259210396.0', 'available_supply': '98531809.0', 'total_supply': '98531809.0', 'max_supply': None, 'percent_change_1h': '1.25', 'percent_change_24h': '8.31', 'percent_change_7d': '-23.78', 'last_updated': '1522514953'}, {'id': 'ripple', 'name': 'Ripple', 'symbol': 'XRP', 'rank': '3', 'price_usd': '0.523081', 'price_btc': '0.00007322', '24h_volume_usd': '328312000.0', 'market_cap_usd': '20449600942.0', 'available_supply': '39094520623.0', 'total_supply': '99992405149.0', 'max_supply': '100000000000', 'percent_change_1h': '1.17', 'percent_change_24h': '5.69', 'percent_change_7d': '-19.78', 'last_updated': '1522514941'}, {'id': 'bitcoin-cash', 'name': 'Bitcoin Cash', 'symbol': 'BCH', 'rank': '4', 'price_usd': '709.17', 'price_btc': '0.0992672', '24h_volume_usd': '330738000.0', 'market_cap_usd': '12089868108.0', 'available_supply': '17047913.0', 'total_supply': '17047913.0', 'max_supply': '21000000.0', 'percent_change_1h': '1.75', 'percent_change_24h': '3.52', 'percent_change_7d': '-29.8', 'last_updated': '1522514952'}, {'id': 'litecoin', 'name': 'Litecoin', 'symbol': 'LTC', 'rank': '5', 'price_usd': '121.583', 'price_btc': '0.0170188', '24h_volume_usd': '341879000.0', 'market_cap_usd': '6793492021.0', 'available_supply': '55875345.0', 'total_supply': '55875345.0', 'max_supply': '84000000.0', 'percent_change_1h': '0.9', 'percent_change_24h': '5.95', 'percent_change_7d': '-25.94', 'last_updated': '1522514941'}, {'id': 'eos', 'name': 'EOS', 'symbol': 'EOS', 'rank': '6', 'price_usd': '6.09812', 'price_btc': '0.00085359', '24h_volume_usd': '264324000.0', 'market_cap_usd': '4647577634.0', 'available_supply': '762132860.0', 'total_supply': '900000000.0', 'max_supply': '1000000000.0', 'percent_change_1h': '1.52', 'percent_change_24h': '2.32', 'percent_change_7d': '-11.85', 'last_updated': '1522514951'}, {'id': 'cardano', 'name': 'Cardano', 'symbol': 'ADA', 'rank': '7', 'price_usd': '0.159637', 'price_btc': '0.00002235', '24h_volume_usd': '100450000.0', 'market_cap_usd': '4138919759.0', 'available_supply': '25927070538.0', 'total_supply': '31112483745.0', 'max_supply': '45000000000.0', 'percent_change_1h': '4.81', 'percent_change_24h': '12.24', 'percent_change_7d': '-16.06', 'last_updated': '1522514954'}, {'id': 'stellar', 'name': 'Stellar', 'symbol': 'XLM', 'rank': '8', 'price_usd': '0.220251', 'price_btc': '0.00003083', '24h_volume_usd': '77389000.0', 'market_cap_usd': '4085786907.0', 'available_supply': '18550594129.0', 'total_supply': '103807834721', 'max_supply': None, 'percent_change_1h': '2.81', 'percent_change_24h': '20.07', 'percent_change_7d': '-8.64', 'last_updated': '1522514943'}, {'id': 'neo', 'name': 'NEO', 'symbol': 'NEO', 'rank': '9', 'price_usd': '51.4237', 'price_btc': '0.00719811', '24h_volume_usd': '77353700.0', 'market_cap_usd': '3342540500.0', 'available_supply': '65000000.0', 'total_supply': '100000000.0', 'max_supply': '100000000.0', 'percent_change_1h': '0.74', 'percent_change_24h': '3.7', 'percent_change_7d': '-24.11', 'last_updated': '1522514947'}, {'id': 'iota', 'name': 'IOTA', 'symbol': 'MIOTA', 'rank': '10', 'price_usd': '1.10611', 'price_btc': '0.00015483', '24h_volume_usd': '33527900.0', 'market_cap_usd': '3074466241.0', 'available_supply': '2779530283.0', 'total_supply': '2779530283.0', 'max_supply': '2779530283.0', 'percent_change_1h': '-0.2', 'percent_change_24h': '2.97', 'percent_change_7d': '-19.41', 'last_updated': '1522514950'}, {'id': 'monero', 'name': 'Monero', 'symbol': 'XMR', 'rank': '11', 'price_usd': '181.738', 'price_btc': '0.0254391', '24h_volume_usd': '24339900.0', 'market_cap_usd': '2886716655.0', 'available_supply': '15883946.0', 'total_supply': '15883946.0', 'max_supply': None, 'percent_change_1h': '0.75', 'percent_change_24h': '7.75', 'percent_change_7d': '-15.11', 'last_updated': '1522514942'}, {'id': 'dash', 'name': 'Dash', 'symbol': 'DASH', 'rank': '12', 'price_usd': '325.675', 'price_btc': '0.0455869', '24h_volume_usd': '70894000.0', 'market_cap_usd': '2598226322.0', 'available_supply': '7977973.0', 'total_supply': '7977973.0', 'max_supply': '18900000.0', 'percent_change_1h': '0.92', 'percent_change_24h': '5.5', 'percent_change_7d': '-26.24', 'last_updated': '1522514941'}, {'id': 'tether', 'name': 'Tether', 'symbol': 'USDT', 'rank': '13', 'price_usd': '1.0007', 'price_btc': '0.00014007', '24h_volume_usd': '1943540000.0', 'market_cap_usd': '2288741812.0', 'available_supply': '2287140814.0', 'total_supply': '2580109970.0', 'max_supply': None, 'percent_change_1h': '0.13', 'percent_change_24h': '0.25', 'percent_change_7d': '-0.0', 'last_updated': '1522514945'}, {'id': 'tron', 'name': 'TRON', 'symbol': 'TRX', 'rank': '14', 'price_usd': '0.03451', 'price_btc': '0.00000483', '24h_volume_usd': '373824000.0', 'market_cap_usd': '2268970122.0', 'available_supply': '65748192475.0', 'total_supply': '100000000000', 'max_supply': None, 'percent_change_1h': '-1.82', 'percent_change_24h': '-13.41', 'percent_change_7d': '-29.67', 'last_updated': '1522514953'}, {'id': 'nem', 'name': 'NEM', 'symbol': 'XEM', 'rank': '15', 'price_usd': '0.225352', 'price_btc': '0.00003154', '24h_volume_usd': '18692300.0', 'market_cap_usd': '2028168000.0', 'available_supply': '8999999999.0', 'total_supply': '8999999999.0', 'max_supply': None, 'percent_change_1h': '1.29', 'percent_change_24h': '3.3', 'percent_change_7d': '-21.03', 'last_updated': '1522514944'}, {'id': 'ethereum-classic', 'name': 'Ethereum Classic', 'symbol': 'ETC', 'rank': '16', 'price_usd': '14.6985', 'price_btc': '0.00205745', '24h_volume_usd': '135888000.0', 'market_cap_usd': '1482680923.0', 'available_supply': '100872941.0', 'total_supply': '100872941.0', 'max_supply': None, 'percent_change_1h': '1.25', 'percent_change_24h': '3.69', 'percent_change_7d': '-22.1', 'last_updated': '1522514947'}, {'id': 'vechain', 'name': 'VeChain', 'symbol': 'VEN', 'rank': '17', 'price_usd': '2.47873', 'price_btc': '0.00034697', '24h_volume_usd': '47108300.0', 'market_cap_usd': '1297046299.0', 'available_supply': '523270505.0', 'total_supply': '873378637.0', 'max_supply': None, 'percent_change_1h': '2.5', 'percent_change_24h': '9.24', 'percent_change_7d': '-28.4', 'last_updated': '1522514952'}, {'id': 'qtum', 'name': 'Qtum', 'symbol': 'QTUM', 'rank': '18', 'price_usd': '14.5629', 'price_btc': '0.00203846', '24h_volume_usd': '89285200.0', 'market_cap_usd': '1288657798.0', 'available_supply': '88489092.0', 'total_supply': '100489092.0', 'max_supply': None, 'percent_change_1h': '1.26', 'percent_change_24h': '4.34', 'percent_change_7d': '-21.12', 'last_updated': '1522514950'}, {'id': 'binance-coin', 'name': 'Binance Coin', 'symbol': 'BNB', 'rank': '19', 'price_usd': '11.3247', 'price_btc': '0.0015852', '24h_volume_usd': '90572000.0', 'market_cap_usd': '1121303846.0', 'available_supply': '99014000.0', 'total_supply': '197192382.0', 'max_supply': None, 'percent_change_1h': '-0.16', 'percent_change_24h': '14.64', 'percent_change_7d': '-12.61', 'last_updated': '1522514952'}, {'id': 'icon', 'name': 'ICON', 'symbol': 'ICX', 'rank': '20', 'price_usd': '2.28043', 'price_btc': '0.00031921', '24h_volume_usd': '57486700.0', 'market_cap_usd': '882623348.0', 'available_supply': '387042508.0', 'total_supply': '400230000.0', 'max_supply': None, 'percent_change_1h': '1.17', 'percent_change_24h': '3.5', 'percent_change_7d': '-39.36', 'last_updated': '1522514955'}, {'id': 'omisego', 'name': 'OmiseGO', 'symbol': 'OMG', 'rank': '21', 'price_usd': '8.45028', 'price_btc': '0.00118284', '24h_volume_usd': '23606300.0', 'market_cap_usd': '862288134.0', 'available_supply': '102042552.0', 'total_supply': '140245398.0', 'max_supply': None, 'percent_change_1h': '1.41', 'percent_change_24h': '4.11', 'percent_change_7d': '-26.05', 'last_updated': '1522514951'}, {'id': 'lisk', 'name': 'Lisk', 'symbol': 'LSK', 'rank': '22', 'price_usd': '7.84369', 'price_btc': '0.00109793', '24h_volume_usd': '15307400.0', 'market_cap_usd': '810743673.0', 'available_supply': '103362534.0', 'total_supply': '119615324.0', 'max_supply': None, 'percent_change_1h': '2.91', 'percent_change_24h': '8.67', 'percent_change_7d': '-35.69', 'last_updated': '1522514946'}, {'id': 'bitcoin-gold', 'name': 'Bitcoin Gold', 'symbol': 'BTG', 'rank': '23', 'price_usd': '45.5534', 'price_btc': '0.00637641', '24h_volume_usd': '8064080.0', 'market_cap_usd': '770518045.0', 'available_supply': '16914611.0', 'total_supply': '17014611.0', 'max_supply': '21000000.0', 'percent_change_1h': '1.42', 'percent_change_24h': '4.31', 'percent_change_7d': '-25.7', 'last_updated': '1522514955'}, {'id': 'nano', 'name': 'Nano', 'symbol': 'NANO', 'rank': '24', 'price_usd': '5.50684', 'price_btc': '0.00077083', '24h_volume_usd': '8530600.0', 'market_cap_usd': '733777009.0', 'available_supply': '133248289.0', 'total_supply': '133248289.0', 'max_supply': '133248290.0', 'percent_change_1h': '1.1', 'percent_change_24h': '9.12', 'percent_change_7d': '-30.86', 'last_updated': '1522514949'}, {'id': 'zcash', 'name': 'Zcash', 'symbol': 'ZEC', 'rank': '25', 'price_usd': '193.332', 'price_btc': '0.027062', '24h_volume_usd': '40300200.0', 'market_cap_usd': '696032658.0', 'available_supply': '3600194.0', 'total_supply': '3600194.0', 'max_supply': None, 'percent_change_1h': '1.46', 'percent_change_24h': '4.1', 'percent_change_7d': '-22.48', 'last_updated': '1522514948'}, {'id': 'verge', 'name': 'Verge', 'symbol': 'XVG', 'rank': '26', 'price_usd': '0.0406167', 'price_btc': '0.00000569', '24h_volume_usd': '22944000.0', 'market_cap_usd': '600225640.0', 'available_supply': '14777804203.0', 'total_supply': '14777804203.0', 'max_supply': '16555000000.0', 'percent_change_1h': '3.32', 'percent_change_24h': '17.22', 'percent_change_7d': '-9.34', 'last_updated': '1522514944'}, {'id': 'bytom', 'name': 'Bytom', 'symbol': 'BTM', 'rank': '27', 'price_usd': '0.534978', 'price_btc': '0.00007488', '24h_volume_usd': '41406000.0', 'market_cap_usd': '528023286.0', 'available_supply': '987000000.0', 'total_supply': '1407000000.0', 'max_supply': None, 'percent_change_1h': '1.9', 'percent_change_24h': '13.52', 'percent_change_7d': '39.61', 'last_updated': '1522514952'}, {'id': 'ontology', 'name': 'Ontology', 'symbol': 'ONT', 'rank': '28', 'price_usd': '2.15177', 'price_btc': '0.00030241', '24h_volume_usd': '41769000.0', 'market_cap_usd': '519085358.0', 'available_supply': '241236451.0', 'total_supply': '1000000000.0', 'max_supply': None, 'percent_change_1h': '1.2', 'percent_change_24h': '-1.41', 'percent_change_7d': '49.62', 'last_updated': '1522514661'}, {'id': 'digixdao', 'name': 'DigixDAO', 'symbol': 'DGD', 'rank': '29', 'price_usd': '245.515', 'price_btc': '0.0343663', '24h_volume_usd': '21176000.0', 'market_cap_usd': '491030000.0', 'available_supply': '2000000.0', 'total_supply': '2000000.0', 'max_supply': None, 'percent_change_1h': '-0.04', 'percent_change_24h': '6.97', 'percent_change_7d': '-29.52', 'last_updated': '1522514946'}, {'id': 'populous', 'name': 'Populous', 'symbol': 'PPT', 'rank': '30', 'price_usd': '12.4052', 'price_btc': '0.00173643', '24h_volume_usd': '1165660.0', 'market_cap_usd': '459042354.0', 'available_supply': '37004027.0', 'total_supply': '53252246.0', 'max_supply': '53252246.0', 'percent_change_1h': '0.8', 'percent_change_24h': '5.72', 'percent_change_7d': '-21.18', 'last_updated': '1522514951'}, {'id': 'bytecoin-bcn', 'name': 'Bytecoin', 'symbol': 'BCN', 'rank': '31', 'price_usd': '0.00218773', 'price_btc': '0.00000031', '24h_volume_usd': '1018860.0', 'market_cap_usd': '402132971.0', 'available_supply': '183812888797', 'total_supply': '183812888797', 'max_supply': '184470000000', 'percent_change_1h': '0.51', 'percent_change_24h': '6.9', 'percent_change_7d': '-21.2', 'last_updated': '1522514942'}, {'id': 'steem', 'name': 'Steem', 'symbol': 'STEEM', 'rank': '32', 'price_usd': '1.55786', 'price_btc': '0.00021806', '24h_volume_usd': '1426100.0', 'market_cap_usd': '399036637.0', 'available_supply': '256144093.0', 'total_supply': '273118187.0', 'max_supply': None, 'percent_change_1h': '1.27', 'percent_change_24h': '1.43', 'percent_change_7d': '-23.88', 'last_updated': '1522514946'}, {'id': 'aeternity', 'name': 'Aeternity', 'symbol': 'AE', 'rank': '33', 'price_usd': '1.64367', 'price_btc': '0.00023007', '24h_volume_usd': '3925070.0', 'market_cap_usd': '383008759.0', 'available_supply': '233020472.0', 'total_supply': '273685830.0', 'max_supply': None, 'percent_change_1h': '1.39', 'percent_change_24h': '6.26', 'percent_change_7d': '-4.15', 'last_updated': '1522514950'}, {'id': 'stratis', 'name': 'Stratis', 'symbol': 'STRAT', 'rank': '34', 'price_usd': '3.80653', 'price_btc': '0.00053283', '24h_volume_usd': '4699680.0', 'market_cap_usd': '376079417.0', 'available_supply': '98798490.0', 'total_supply': '98798490.0', 'max_supply': None, 'percent_change_1h': '1.75', 'percent_change_24h': '5.78', 'percent_change_7d': '-28.82', 'last_updated': '1522514947'}, {'id': 'waves', 'name': 'Waves', 'symbol': 'WAVES', 'rank': '35', 'price_usd': '3.73697', 'price_btc': '0.00052309', '24h_volume_usd': '17358000.0', 'market_cap_usd': '373697000.0', 'available_supply': '100000000.0', 'total_supply': '100000000.0', 'max_supply': None, 'percent_change_1h': '1.06', 'percent_change_24h': '6.59', 'percent_change_7d': '-23.1', 'last_updated': '1522514946'}, {'id': 'siacoin', 'name': 'Siacoin', 'symbol': 'SC', 'rank': '36', 'price_usd': '0.0110886', 'price_btc': '0.00000155', '24h_volume_usd': '2386770.0', 'market_cap_usd': '371252751.0', 'available_supply': '33480579209.0', 'total_supply': '33480579209.0', 'max_supply': None, 'percent_change_1h': '2.02', 'percent_change_24h': '7.3', 'percent_change_7d': '-16.89', 'last_updated': '1522514945'}, {'id': 'bitcoin-diamond', 'name': 'Bitcoin Diamond', 'symbol': 'BCD', 'rank': '37', 'price_usd': '2.35071', 'price_btc': '0.00032904', '24h_volume_usd': '1609020.0', 'market_cap_usd': '359309550.0', 'available_supply': '152851500.0', 'total_supply': '155851500.0', 'max_supply': '210000000.0', 'percent_change_1h': '1.14', 'percent_change_24h': '7.75', 'percent_change_7d': '-17.77', 'last_updated': '1522514956'}, {'id': 'rchain', 'name': 'RChain', 'symbol': 'RHOC', 'rank': '38', 'price_usd': '0.958856', 'price_btc': '0.00013422', '24h_volume_usd': '413789.0', 'market_cap_usd': '344788010.0', 'available_supply': '359582680.0', 'total_supply': '870663574.0', 'max_supply': '1000000000.0', 'percent_change_1h': '1.81', 'percent_change_24h': '2.57', 'percent_change_7d': '-18.32', 'last_updated': '1522514954'}, {'id': 'bitshares', 'name': 'BitShares', 'symbol': 'BTS', 'rank': '39', 'price_usd': '0.131756', 'price_btc': '0.00001844', '24h_volume_usd': '4681690.0', 'market_cap_usd': '344202010.0', 'available_supply': '2612420000.0', 'total_supply': '2612420000.0', 'max_supply': '3600570502.0', 'percent_change_1h': '1.03', 'percent_change_24h': '5.15', 'percent_change_7d': '-20.58', 'last_updated': '1522514942'}, {'id': 'maker', 'name': 'Maker', 'symbol': 'MKR', 'rank': '40', 'price_usd': '534.248', 'price_btc': '0.0747821', '24h_volume_usd': '78951.7', 'market_cap_usd': '330286950.0', 'available_supply': '618228.0', 'total_supply': '1000000.0', 'max_supply': None, 'percent_change_1h': '1.89', 'percent_change_24h': '9.29', 'percent_change_7d': '-23.44', 'last_updated': '1522514949'}, {'id': 'dogecoin', 'name': 'Dogecoin', 'symbol': 'DOGE', 'rank': '41', 'price_usd': '0.00287973', 'price_btc': '0.00000040', '24h_volume_usd': '4127740.0', 'market_cap_usd': '327779164.0', 'available_supply': '113822880705', 'total_supply': '113822880705', 'max_supply': None, 'percent_change_1h': '1.13', 'percent_change_24h': '6.38', 'percent_change_7d': '-21.0', 'last_updated': '1522514941'}, {'id': 'zilliqa', 'name': 'Zilliqa', 'symbol': 'ZIL', 'rank': '42', 'price_usd': '0.0487383', 'price_btc': '0.00000685', '24h_volume_usd': '18478800.0', 'market_cap_usd': '322576976.0', 'available_supply': '6618552066.0', 'total_supply': '12600000000.0', 'max_supply': None, 'percent_change_1h': '5.26', 'percent_change_24h': '14.12', 'percent_change_7d': '-10.79', 'last_updated': '1522514659'}, {'id': 'status', 'name': 'Status', 'symbol': 'SNT', 'rank': '43', 'price_usd': '0.0922168', 'price_btc': '0.00001291', '24h_volume_usd': '22143500.0', 'market_cap_usd': '320036909.0', 'available_supply': '3470483788.0', 'total_supply': '6804870174.0', 'max_supply': None, 'percent_change_1h': '5.24', 'percent_change_24h': '7.12', 'percent_change_7d': '-10.1', 'last_updated': '1522514951'}, {'id': 'augur', 'name': 'Augur', 'symbol': 'REP', 'rank': '44', 'price_usd': '26.9513', 'price_btc': '0.00377255', '24h_volume_usd': '2140810.0', 'market_cap_usd': '296464300.0', 'available_supply': '11000000.0', 'total_supply': '11000000.0', 'max_supply': None, 'percent_change_1h': '1.22', 'percent_change_24h': '3.97', 'percent_change_7d': '-24.4', 'last_updated': '1522514945'}, {'id': '0x', 'name': '0x', 'symbol': 'ZRX', 'rank': '45', 'price_usd': '0.556793', 'price_btc': '0.00007794', '24h_volume_usd': '4709310.0', 'market_cap_usd': '290298443.0', 'available_supply': '521375884.0', 'total_supply': '1000000000.0', 'max_supply': None, 'percent_change_1h': '2.01', 'percent_change_24h': '13.01', 'percent_change_7d': '-5.3', 'last_updated': '1522514953'}, {'id': 'decred', 'name': 'Decred', 'symbol': 'DCR', 'rank': '46', 'price_usd': '41.21', 'price_btc': '0.00576843', '24h_volume_usd': '389083.0', 'market_cap_usd': '290095900.0', 'available_supply': '7039454.0', 'total_supply': '7459454.0', 'max_supply': '21000000.0', 'percent_change_1h': '1.9', 'percent_change_24h': '8.34', 'percent_change_7d': '-22.26', 'last_updated': '1522514946'}, {'id': 'veritaseum', 'name': 'Veritaseum', 'symbol': 'VERI', 'rank': '47', 'price_usd': '141.435', 'price_btc': '0.0197976', '24h_volume_usd': '355442.0', 'market_cap_usd': '288052948.0', 'available_supply': '2036645.0', 'total_supply': '100000000.0', 'max_supply': None, 'percent_change_1h': '2.01', 'percent_change_24h': '17.81', 'percent_change_7d': '-29.87', 'last_updated': '1522514950'}, {'id': 'waltonchain', 'name': 'Waltonchain', 'symbol': 'WTC', 'rank': '48', 'price_usd': '11.4224', 'price_btc': '0.00159886', '24h_volume_usd': '4453720.0', 'market_cap_usd': '284396948.0', 'available_supply': '24898178.0', 'total_supply': '70000000.0', 'max_supply': '100000000.0', 'percent_change_1h': '2.02', 'percent_change_24h': '12.64', 'percent_change_7d': '-12.55', 'last_updated': '1522514953'}, {'id': 'komodo', 'name': 'Komodo', 'symbol': 'KMD', 'rank': '49', 'price_usd': '2.44346', 'price_btc': '0.00034203', '24h_volume_usd': '1146380.0', 'market_cap_usd': '254210582.0', 'available_supply': '104037137.0', 'total_supply': '104037137.0', 'max_supply': None, 'percent_change_1h': '1.43', 'percent_change_24h': '6.51', 'percent_change_7d': '-21.53', 'last_updated': '1522514949'}, {'id': 'aion', 'name': 'Aion', 'symbol': 'AION', 'rank': '50', 'price_usd': '2.15116', 'price_btc': '0.00030111', '24h_volume_usd': '8165760.0', 'market_cap_usd': '248071494.0', 'available_supply': '115319871.0', 'total_supply': '465934587.0', 'max_supply': None, 'percent_change_1h': '0.3', 'percent_change_24h': '11.66', 'percent_change_7d': '-26.7', 'last_updated': '1522514954'}, {'id': 'hshare', 'name': 'Hshare', 'symbol': 'HSR', 'rank': '51', 'price_usd': '5.77596', 'price_btc': '0.0008085', '24h_volume_usd': '14669200.0', 'market_cap_usd': '247243713.0', 'available_supply': '42805648.0', 'total_supply': '42805648.0', 'max_supply': '84000000.0', 'percent_change_1h': '0.6', 'percent_change_24h': '6.1', 'percent_change_7d': '-16.96', 'last_updated': '1522514953'}, {'id': 'ardor', 'name': 'Ardor', 'symbol': 'ARDR', 'rank': '52', 'price_usd': '0.232217', 'price_btc': '0.00003250', '24h_volume_usd': '848672.0', 'market_cap_usd': '231984666.0', 'available_supply': '998999495.0', 'total_supply': '998999495.0', 'max_supply': '998999495.0', 'percent_change_1h': '1.2', 'percent_change_24h': '6.01', 'percent_change_7d': '-18.88', 'last_updated': '1522514947'}, {'id': 'loopring', 'name': 'Loopring', 'symbol': 'LRC', 'rank': '53', 'price_usd': '0.397171', 'price_btc': '0.00005559', '24h_volume_usd': '2374710.0', 'market_cap_usd': '227211220.0', 'available_supply': '572074043.0', 'total_supply': '1374956262.0', 'max_supply': None, 'percent_change_1h': '1.77', 'percent_change_24h': '6.79', 'percent_change_7d': '-20.74', 'last_updated': '1522514953'}, {'id': 'cryptonex', 'name': 'Cryptonex', 'symbol': 'CNX', 'rank': '54', 'price_usd': '4.97094', 'price_btc': '0.00069582', '24h_volume_usd': '1204250.0', 'market_cap_usd': '224637059.0', 'available_supply': '45190056.0', 'total_supply': '106627682.0', 'max_supply': '210000000.0', 'percent_change_1h': '2.42', 'percent_change_24h': '10.08', 'percent_change_7d': '-18.62', 'last_updated': '1522514955'}, {'id': 'qash', 'name': 'QASH', 'symbol': 'QASH', 'rank': '55', 'price_usd': '0.630196', 'price_btc': '0.00008821', '24h_volume_usd': '3815000.0', 'market_cap_usd': '220568600.0', 'available_supply': '350000000.0', 'total_supply': '1000000000.0', 'max_supply': None, 'percent_change_1h': '2.03', 'percent_change_24h': '10.27', 'percent_change_7d': '-16.67', 'last_updated': '1522514957'}, {'id': 'kucoin-shares', 'name': 'KuCoin Shares', 'symbol': 'KCS', 'rank': '56', 'price_usd': '2.33468', 'price_btc': '0.0003268', '24h_volume_usd': '293802.0', 'market_cap_usd': '212556449.0', 'available_supply': '91043076.0', 'total_supply': '181043076.0', 'max_supply': None, 'percent_change_1h': '1.48', 'percent_change_24h': '6.98', 'percent_change_7d': '-20.72', 'last_updated': '1522514956'}, {'id': 'ark', 'name': 'Ark', 'symbol': 'ARK', 'rank': '57', 'price_usd': '2.07705', 'price_btc': '0.00029074', '24h_volume_usd': '640206.0', 'market_cap_usd': '211019457.0', 'available_supply': '101595752.0', 'total_supply': '132845752.0', 'max_supply': None, 'percent_change_1h': '1.35', 'percent_change_24h': '6.58', 'percent_change_7d': '-27.13', 'last_updated': '1522514949'}, {'id': 'iostoken', 'name': 'IOStoken', 'symbol': 'IOST', 'rank': '58', 'price_usd': '0.0248528', 'price_btc': '0.00000348', '24h_volume_usd': '24139700.0', 'market_cap_usd': '208763520.0', 'available_supply': '8400000000.0', 'total_supply': '21000000000.0', 'max_supply': None, 'percent_change_1h': '0.87', 'percent_change_24h': '-0.1', 'percent_change_7d': '-5.99', 'last_updated': '1522514959'}, {'id': 'pivx', 'name': 'PIVX', 'symbol': 'PIVX', 'rank': '59', 'price_usd': '3.69452', 'price_btc': '0.00051715', '24h_volume_usd': '2837250.0', 'market_cap_usd': '206465069.0', 'available_supply': '55884139.0', 'total_supply': '55884139.0', 'max_supply': None, 'percent_change_1h': '0.33', 'percent_change_24h': '10.52', 'percent_change_7d': '-13.81', 'last_updated': '1522514946'}, {'id': 'basic-attention-token', 'name': 'Basic Attention Token', 'symbol': 'BAT', 'rank': '60', 'price_usd': '0.19501', 'price_btc': '0.00002730', '24h_volume_usd': '4241930.0', 'market_cap_usd': '195010000.0', 'available_supply': '1000000000.0', 'total_supply': '1500000000.0', 'max_supply': None, 'percent_change_1h': '1.17', 'percent_change_24h': '7.62', 'percent_change_7d': '-11.44', 'last_updated': '1522514950'}, {'id': 'xpa', 'name': 'XPA', 'symbol': 'XPA', 'rank': '61', 'price_usd': '0.193126', 'price_btc': '0.00002703', '24h_volume_usd': '2081900.0', 'market_cap_usd': '193126000.0', 'available_supply': '1000000000.0', 'total_supply': '10000000000.0', 'max_supply': None, 'percent_change_1h': '-14.2', 'percent_change_24h': '28.09', 'percent_change_7d': '163.85', 'last_updated': '1522514954'}, {'id': 'nebulas-token', 'name': 'Nebulas', 'symbol': 'NAS', 'rank': '62', 'price_usd': '5.32037', 'price_btc': '0.00074473', '24h_volume_usd': '8071550.0', 'market_cap_usd': '188873135.0', 'available_supply': '35500000.0', 'total_supply': '100000000.0', 'max_supply': '100000000.0', 'percent_change_1h': '0.16', 'percent_change_24h': '0.12', 'percent_change_7d': '-19.18', 'last_updated': '1522514953'}, {'id': 'monacoin', 'name': 'MonaCoin', 'symbol': 'MONA', 'rank': '63', 'price_usd': '3.20112', 'price_btc': '0.00044808', '24h_volume_usd': '1137450.0', 'market_cap_usd': '187104983.0', 'available_supply': '58449850.0', 'total_supply': '58449850.0', 'max_supply': None, 'percent_change_1h': '0.88', 'percent_change_24h': '4.32', 'percent_change_7d': '-14.8', 'last_updated': '1522514941'}, {'id': 'digibyte', 'name': 'DigiByte', 'symbol': 'DGB', 'rank': '64', 'price_usd': '0.018301', 'price_btc': '0.00000256', '24h_volume_usd': '1223680.0', 'market_cap_usd': '183931272.0', 'available_supply': '10050340000.0', 'total_supply': '10050340000.0', 'max_supply': '21000000000.0', 'percent_change_1h': '0.35', 'percent_change_24h': '8.36', 'percent_change_7d': '-21.07', 'last_updated': '1522514941'}, {'id': 'factom', 'name': 'Factom', 'symbol': 'FCT', 'rank': '65', 'price_usd': '20.0208', 'price_btc': '0.00280244', '24h_volume_usd': '2150180.0', 'market_cap_usd': '175083938.0', 'available_supply': '8745102.0', 'total_supply': '8745102.0', 'max_supply': None, 'percent_change_1h': '1.18', 'percent_change_24h': '14.52', 'percent_change_7d': '-14.84', 'last_updated': '1522514945'}, {'id': 'golem-network-tokens', 'name': 'Golem', 'symbol': 'GNT', 'rank': '66', 'price_usd': '0.206561', 'price_btc': '0.00002891', '24h_volume_usd': '6034740.0', 'market_cap_usd': '172325993.0', 'available_supply': '834262000.0', 'total_supply': '1000000000.0', 'max_supply': None, 'percent_change_1h': '2.95', 'percent_change_24h': '5.34', 'percent_change_7d': '-16.7', 'last_updated': '1522514948'}, {'id': 'gas', 'name': 'Gas', 'symbol': 'GAS', 'rank': '67', 'price_usd': '16.3541', 'price_btc': '0.00228919', '24h_volume_usd': '3935960.0', 'market_cap_usd': '163464290.0', 'available_supply': '9995309.0', 'total_supply': '16625261.0', 'max_supply': '100000000.0', 'percent_change_1h': '1.64', 'percent_change_24h': '6.31', 'percent_change_7d': '-26.31', 'last_updated': '1522514951'}, {'id': 'gxchain', 'name': 'GXChain', 'symbol': 'GXS', 'rank': '68', 'price_usd': '2.72435', 'price_btc': '0.00038135', '24h_volume_usd': '1337590.0', 'market_cap_usd': '163461000.0', 'available_supply': '60000000.0', 'total_supply': '100000000.0', 'max_supply': '100000000.0', 'percent_change_1h': '0.95', 'percent_change_24h': '4.82', 'percent_change_7d': '5.8', 'last_updated': '1522514951'}, {'id': 'ethos', 'name': 'Ethos', 'symbol': 'ETHOS', 'rank': '69', 'price_usd': '2.13604', 'price_btc': '0.000299', '24h_volume_usd': '4819050.0', 'market_cap_usd': '162517041.0', 'available_supply': '76083332.0', 'total_supply': '222295208.0', 'max_supply': None, 'percent_change_1h': '1.92', 'percent_change_24h': '6.49', 'percent_change_7d': '-25.0', 'last_updated': '1522514952'}, {'id': 'syscoin', 'name': 'Syscoin', 'symbol': 'SYS', 'rank': '70', 'price_usd': '0.290525', 'price_btc': '0.00004067', '24h_volume_usd': '1318670.0', 'market_cap_usd': '154551664.0', 'available_supply': '531973717.0', 'total_supply': '531973717.0', 'max_supply': '888000000.0', 'percent_change_1h': '1.35', 'percent_change_24h': '5.54', 'percent_change_7d': '-23.13', 'last_updated': '1522514943'}, {'id': 'dragonchain', 'name': 'Dragonchain', 'symbol': 'DRGN', 'rank': '71', 'price_usd': '0.642252', 'price_btc': '0.00008990', '24h_volume_usd': '1691130.0', 'market_cap_usd': '153126968.0', 'available_supply': '238421940.0', 'total_supply': '433494437.0', 'max_supply': None, 'percent_change_1h': '1.23', 'percent_change_24h': '5.46', 'percent_change_7d': '-28.24', 'last_updated': '1522514957'}, {'id': 'storm', 'name': 'Storm', 'symbol': 'STORM', 'rank': '72', 'price_usd': '0.0363265', 'price_btc': '0.00000508', '24h_volume_usd': '50523500.0', 'market_cap_usd': '148533720.0', 'available_supply': '4088853037.0', 'total_supply': '10000000000.0', 'max_supply': None, 'percent_change_1h': '0.66', 'percent_change_24h': '-3.37', 'percent_change_7d': '-41.29', 'last_updated': '1522514957'}, {'id': 'funfair', 'name': 'FunFair', 'symbol': 'FUN', 'rank': '73', 'price_usd': '0.0319568', 'price_btc': '0.00000447', '24h_volume_usd': '766829.0', 'market_cap_usd': '147163451.0', 'available_supply': '4605074689.0', 'total_supply': '10999873621.0', 'max_supply': None, 'percent_change_1h': '1.85', 'percent_change_24h': '8.35', 'percent_change_7d': '-26.13', 'last_updated': '1522514951'}, {'id': 'mithril', 'name': 'Mithril', 'symbol': 'MITH', 'rank': '74', 'price_usd': '0.485805', 'price_btc': '0.00006827', '24h_volume_usd': '28904800.0', 'market_cap_usd': '145805214.0', 'available_supply': '300131152.0', 'total_supply': '1000000000.0', 'max_supply': None, 'percent_change_1h': '-2.78', 'percent_change_24h': '41.58', 'percent_change_7d': '446.44', 'last_updated': '1522514661'}, {'id': 'revain', 'name': 'Revain', 'symbol': 'R', 'rank': '75', 'price_usd': '0.786464', 'price_btc': '0.00011009', '24h_volume_usd': '3132470.0', 'market_cap_usd': '145063285.0', 'available_supply': '184450000.0', 'total_supply': '484450000.0', 'max_supply': '484450000.0', 'percent_change_1h': '2.06', 'percent_change_24h': '-2.95', 'percent_change_7d': '-22.44', 'last_updated': '1522514955'}, {'id': 'kin', 'name': 'Kin', 'symbol': 'KIN', 'rank': '76', 'price_usd': '0.00019121', 'price_btc': '0.00000003', '24h_volume_usd': '392313.0', 'market_cap_usd': '144573415.0', 'available_supply': '756097560976', 'total_supply': '10000000000000', 'max_supply': None, 'percent_change_1h': '1.54', 'percent_change_24h': '8.05', 'percent_change_7d': '3.89', 'last_updated': '1522514954'}, {'id': 'electroneum', 'name': 'Electroneum', 'symbol': 'ETN', 'rank': '77', 'price_usd': '0.0210773', 'price_btc': '0.00000295', '24h_volume_usd': '733734.0', 'market_cap_usd': '138682076.0', 'available_supply': '6579688841.0', 'total_supply': '6579688841.0', 'max_supply': '21000000000.0', 'percent_change_1h': '1.16', 'percent_change_24h': '8.48', 'percent_change_7d': '-29.71', 'last_updated': '1522514955'}, {'id': 'kyber-network', 'name': 'Kyber Network', 'symbol': 'KNC', 'rank': '78', 'price_usd': '1.02985', 'price_btc': '0.00014415', '24h_volume_usd': '5105960.0', 'market_cap_usd': '138136558.0', 'available_supply': '134132697.0', 'total_supply': '215625349.0', 'max_supply': None, 'percent_change_1h': '1.55', 'percent_change_24h': '3.12', 'percent_change_7d': '-28.61', 'last_updated': '1522514953'}, {'id': 'aelf', 'name': 'aelf', 'symbol': 'ELF', 'rank': '79', 'price_usd': '0.550547', 'price_btc': '0.00007706', '24h_volume_usd': '25650800.0', 'market_cap_usd': '137636750.0', 'available_supply': '250000000.0', 'total_supply': '280000000.0', 'max_supply': '1000000000.0', 'percent_change_1h': '3.11', 'percent_change_24h': '9.16', 'percent_change_7d': '-22.99', 'last_updated': '1522514957'}, {'id': 'zcoin', 'name': 'ZCoin', 'symbol': 'XZC', 'rank': '80', 'price_usd': '29.75', 'price_btc': '0.0041643', '24h_volume_usd': '623311.0', 'market_cap_usd': '131788371.0', 'available_supply': '4429861.0', 'total_supply': '4429861.0', 'max_supply': '21400000.0', 'percent_change_1h': '1.96', 'percent_change_24h': '8.75', 'percent_change_7d': '-23.76', 'last_updated': '1522514948'}, {'id': 'substratum', 'name': 'Substratum', 'symbol': 'SUB', 'rank': '81', 'price_usd': '0.352373', 'price_btc': '0.00004932', '24h_volume_usd': '3654630.0', 'market_cap_usd': '124359832.0', 'available_supply': '352921000.0', 'total_supply': '472000000.0', 'max_supply': None, 'percent_change_1h': '1.48', 'percent_change_24h': '8.67', 'percent_change_7d': '-17.3', 'last_updated': '1522514954'}, {'id': 'salt', 'name': 'SALT', 'symbol': 'SALT', 'rank': '82', 'price_usd': '2.12505', 'price_btc': '0.00029746', '24h_volume_usd': '5721530.0', 'market_cap_usd': '119190799.0', 'available_supply': '56088468.0', 'total_supply': '120000000.0', 'max_supply': None, 'percent_change_1h': '1.29', 'percent_change_24h': '7.35', 'percent_change_7d': '-35.52', 'last_updated': '1522514954'}, {'id': 'reddcoin', 'name': 'ReddCoin', 'symbol': 'RDD', 'rank': '83', 'price_usd': '0.00401923', 'price_btc': '0.00000056', '24h_volume_usd': '1338340.0', 'market_cap_usd': '115782703.0', 'available_supply': '28807185249.0', 'total_supply': '28807185249.0', 'max_supply': None, 'percent_change_1h': '-1.23', 'percent_change_24h': '5.05', 'percent_change_7d': '-23.48', 'last_updated': '1522514941'}, {'id': 'nxt', 'name': 'Nxt', 'symbol': 'NXT', 'rank': '84', 'price_usd': '0.114631', 'price_btc': '0.00001605', '24h_volume_usd': '1623410.0', 'market_cap_usd': '114516362.0', 'available_supply': '998999942.0', 'total_supply': '998999942.0', 'max_supply': '1000000000.0', 'percent_change_1h': '0.85', 'percent_change_24h': '3.66', 'percent_change_7d': '-17.8', 'last_updated': '1522514941'}, {'id': 'nucleus-vision', 'name': 'Nucleus Vision', 'symbol': 'NCASH', 'rank': '85', 'price_usd': '0.0285001', 'price_btc': '0.00000401', '24h_volume_usd': '8162370.0', 'market_cap_usd': '113559145.0', 'available_supply': '3984517436.0', 'total_supply': '10000000000.0', 'max_supply': None, 'percent_change_1h': '0.99', 'percent_change_24h': '7.23', 'percent_change_7d': '-27.13', 'last_updated': '1522514660'}, {'id': 'byteball', 'name': 'Byteball Bytes', 'symbol': 'GBYTE', 'rank': '86', 'price_usd': '175.918', 'price_btc': '0.0246244', '24h_volume_usd': '123922.0', 'market_cap_usd': '113506173.0', 'available_supply': '645222.0', 'total_supply': '1000000.0', 'max_supply': None, 'percent_change_1h': '1.86', 'percent_change_24h': '15.84', 'percent_change_7d': '-13.19', 'last_updated': '1522514949'}, {'id': 'request-network', 'name': 'Request Network', 'symbol': 'REQ', 'rank': '87', 'price_usd': '0.168983', 'price_btc': '0.00002365', '24h_volume_usd': '3375360.0', 'market_cap_usd': '112029216.0', 'available_supply': '662961459.0', 'total_supply': '999999954.0', 'max_supply': None, 'percent_change_1h': '0.36', 'percent_change_24h': '5.72', 'percent_change_7d': '-25.75', 'last_updated': '1522514955'}, {'id': 'enigma-project', 'name': 'Enigma', 'symbol': 'ENG', 'rank': '88', 'price_usd': '1.49235', 'price_btc': '0.00020889', '24h_volume_usd': '5323090.0', 'market_cap_usd': '111681760.0', 'available_supply': '74836171.0', 'total_supply': '150000000.0', 'max_supply': None, 'percent_change_1h': '2.22', 'percent_change_24h': '4.26', 'percent_change_7d': '-29.19', 'last_updated': '1522514955'}, {'id': 'maidsafecoin', 'name': 'MaidSafeCoin', 'symbol': 'MAID', 'rank': '89', 'price_usd': '0.238615', 'price_btc': '0.00003340', '24h_volume_usd': '663642.0', 'market_cap_usd': '107985794.0', 'available_supply': '452552412.0', 'total_supply': '452552412.0', 'max_supply': None, 'percent_change_1h': '1.56', 'percent_change_24h': '4.25', 'percent_change_7d': '-24.63', 'last_updated': '1522514942'}, {'id': 'power-ledger', 'name': 'Power Ledger', 'symbol': 'POWR', 'rank': '90', 'price_usd': '0.287226', 'price_btc': '0.00004020', '24h_volume_usd': '5463990.0', 'market_cap_usd': '104531005.0', 'available_supply': '363932947.0', 'total_supply': '1000000000.0', 'max_supply': None, 'percent_change_1h': '1.77', 'percent_change_24h': '7.34', 'percent_change_7d': '-24.67', 'last_updated': '1522514956'}, {'id': 'chainlink', 'name': 'ChainLink', 'symbol': 'LINK', 'rank': '91', 'price_usd': '0.297657', 'price_btc': '0.00004167', '24h_volume_usd': '7261150.0', 'market_cap_usd': '104179950.0', 'available_supply': '350000000.0', 'total_supply': '1000000000.0', 'max_supply': None, 'percent_change_1h': '1.81', 'percent_change_24h': '6.63', 'percent_change_7d': '-29.43', 'last_updated': '1522514954'}, {'id': 'neblio', 'name': 'Neblio', 'symbol': 'NEBL', 'rank': '92', 'price_usd': '7.97438', 'price_btc': '0.00111623', '24h_volume_usd': '9039330.0', 'market_cap_usd': '103316746.0', 'available_supply': '12956085.0', 'total_supply': '13711700.0', 'max_supply': None, 'percent_change_1h': '0.93', 'percent_change_24h': '6.86', 'percent_change_7d': '-30.42', 'last_updated': '1522514953'}, {'id': 'dropil', 'name': 'Dropil', 'symbol': 'DROP', 'rank': '93', 'price_usd': '0.00564951', 'price_btc': '0.00000079', '24h_volume_usd': '160361.0', 'market_cap_usd': '102481855.0', 'available_supply': '18139954642.0', 'total_supply': '30000000000.0', 'max_supply': None, 'percent_change_1h': '1.63', 'percent_change_24h': '1.42', 'percent_change_7d': '-29.11', 'last_updated': '1522514661'}, {'id': 'dent', 'name': 'Dent', 'symbol': 'DENT', 'rank': '94', 'price_usd': '0.00952509', 'price_btc': '0.00000133', '24h_volume_usd': '516343.0', 'market_cap_usd': '101106553.0', 'available_supply': '10614760961.0', 'total_supply': '100000000000', 'max_supply': None, 'percent_change_1h': '2.18', 'percent_change_24h': '9.43', 'percent_change_7d': '-12.92', 'last_updated': '1522514952'}, {'id': 'dentacoin', 'name': 'Dentacoin', 'symbol': 'DCN', 'rank': '95', 'price_usd': '0.000307645', 'price_btc': '0.00000004', '24h_volume_usd': '79340.0', 'market_cap_usd': '100054341.0', 'available_supply': '325226613094', 'total_supply': '1963173416169', 'max_supply': '8000000000000', 'percent_change_1h': '3.06', 'percent_change_24h': '10.41', 'percent_change_7d': '-23.45', 'last_updated': '1522514952'}, {'id': 'skycoin', 'name': 'Skycoin', 'symbol': 'SKY', 'rank': '96', 'price_usd': '12.8536', 'price_btc': '0.00179921', '24h_volume_usd': '651691.0', 'market_cap_usd': '99825813.0', 'available_supply': '7766370.0', 'total_supply': '25000000.0', 'max_supply': '100000000.0', 'percent_change_1h': '1.6', 'percent_change_24h': '2.98', 'percent_change_7d': '23.25', 'last_updated': '1522514949'}, {'id': 'bancor', 'name': 'Bancor', 'symbol': 'BNT', 'rank': '97', 'price_usd': '2.33869', 'price_btc': '0.00032736', '24h_volume_usd': '4053410.0', 'market_cap_usd': '99769101.0', 'available_supply': '42660250.0', 'total_supply': '74523011.0', 'max_supply': None, 'percent_change_1h': '1.34', 'percent_change_24h': '7.8', 'percent_change_7d': '-23.06', 'last_updated': '1522514950'}, {'id': 'achain', 'name': 'Achain', 'symbol': 'ACT', 'rank': '98', 'price_usd': '0.212705', 'price_btc': '0.00002977', '24h_volume_usd': '3879200.0', 'market_cap_usd': '98723419.0', 'available_supply': '464133044.0', 'total_supply': '1000000000.0', 'max_supply': '1000000000.0', 'percent_change_1h': '0.76', 'percent_change_24h': '9.48', 'percent_change_7d': '0.79', 'last_updated': '1522514953'}, {'id': 'emercoin', 'name': 'Emercoin', 'symbol': 'EMC', 'rank': '99', 'price_usd': '2.3669', 'price_btc': '0.00033131', '24h_volume_usd': '556160.0', 'market_cap_usd': '98302072.0', 'available_supply': '41531992.0', 'total_supply': '41531992.0', 'max_supply': None, 'percent_change_1h': '2.19', 'percent_change_24h': '2.04', 'percent_change_7d': '-30.25', 'last_updated': '1522514943'}, {'id': 'nuls', 'name': 'Nuls', 'symbol': 'NULS', 'rank': '100', 'price_usd': '2.32256', 'price_btc': '0.00032511', '24h_volume_usd': '9995100.0', 'market_cap_usd': '92902400.0', 'available_supply': '40000000.0', 'total_supply': '40000000.0', 'max_supply': None, 'percent_change_1h': '1.35', 'percent_change_24h': '5.79', 'percent_change_7d': '-17.49', 'last_updated': '1522514955'}]\n"
     ]
    }
   ],
   "source": [
    "import requests\n",
    "request = requests.get('https://api.coinmarketcap.com/v1/ticker/')\n",
    "print(request.json())"
   ]
  },
  {
   "cell_type": "code",
   "execution_count": 13,
   "metadata": {},
   "outputs": [
    {
     "ename": "TypeError",
     "evalue": "list indices must be integers or slices, not str",
     "output_type": "error",
     "traceback": [
      "\u001b[0;31m---------------------------------------------------------------------------\u001b[0m",
      "\u001b[0;31mTypeError\u001b[0m                                 Traceback (most recent call last)",
      "\u001b[0;32m<ipython-input-13-48255efc6512>\u001b[0m in \u001b[0;36m<module>\u001b[0;34m()\u001b[0m\n\u001b[1;32m      1\u001b[0m \u001b[0;32mimport\u001b[0m \u001b[0mrequests\u001b[0m\u001b[0;34m\u001b[0m\u001b[0m\n\u001b[1;32m      2\u001b[0m \u001b[0mrequest\u001b[0m \u001b[0;34m=\u001b[0m \u001b[0mrequests\u001b[0m\u001b[0;34m.\u001b[0m\u001b[0mget\u001b[0m\u001b[0;34m(\u001b[0m\u001b[0;34m'https://api.coinmarketcap.com/v1/ticker/'\u001b[0m\u001b[0;34m)\u001b[0m\u001b[0;34m\u001b[0m\u001b[0m\n\u001b[0;32m----> 3\u001b[0;31m \u001b[0mprint\u001b[0m\u001b[0;34m(\u001b[0m\u001b[0mrequest\u001b[0m\u001b[0;34m.\u001b[0m\u001b[0mjson\u001b[0m\u001b[0;34m(\u001b[0m\u001b[0;34m)\u001b[0m\u001b[0;34m[\u001b[0m\u001b[0;34m'id'\u001b[0m\u001b[0;34m]\u001b[0m\u001b[0;34m[\u001b[0m\u001b[0;34m'name'\u001b[0m\u001b[0;34m]\u001b[0m\u001b[0;34m)\u001b[0m\u001b[0;34m\u001b[0m\u001b[0m\n\u001b[0m",
      "\u001b[0;31mTypeError\u001b[0m: list indices must be integers or slices, not str"
     ]
    }
   ],
   "source": [
    "import requests\n",
    "request = requests.get('https://api.coinmarketcap.com/v1/ticker/')\n",
    "print(request.json()['id']['name'])"
   ]
  },
  {
   "cell_type": "code",
   "execution_count": 14,
   "metadata": {},
   "outputs": [
    {
     "name": "stdout",
     "output_type": "stream",
     "text": [
      "Bitcoin\n"
     ]
    }
   ],
   "source": [
    "import requests\n",
    "request = requests.get('https://api.coinmarketcap.com/v1/ticker/')\n",
    "print(request.json()[0]['name'])"
   ]
  },
  {
   "cell_type": "code",
   "execution_count": 15,
   "metadata": {},
   "outputs": [
    {
     "name": "stdout",
     "output_type": "stream",
     "text": [
      "Ethereum\n"
     ]
    }
   ],
   "source": [
    "import requests\n",
    "request = requests.get('https://api.coinmarketcap.com/v1/ticker/')\n",
    "print(request.json()[1]['name'])"
   ]
  },
  {
   "cell_type": "code",
   "execution_count": 16,
   "metadata": {},
   "outputs": [
    {
     "ename": "KeyError",
     "evalue": "0",
     "output_type": "error",
     "traceback": [
      "\u001b[0;31m---------------------------------------------------------------------------\u001b[0m",
      "\u001b[0;31mKeyError\u001b[0m                                  Traceback (most recent call last)",
      "\u001b[0;32m<ipython-input-16-bf11c6b14474>\u001b[0m in \u001b[0;36m<module>\u001b[0;34m()\u001b[0m\n\u001b[1;32m      1\u001b[0m \u001b[0;32mimport\u001b[0m \u001b[0mrequests\u001b[0m\u001b[0;34m\u001b[0m\u001b[0m\n\u001b[1;32m      2\u001b[0m \u001b[0mrequest\u001b[0m \u001b[0;34m=\u001b[0m \u001b[0mrequests\u001b[0m\u001b[0;34m.\u001b[0m\u001b[0mget\u001b[0m\u001b[0;34m(\u001b[0m\u001b[0;34m'https://api.coinmarketcap.com/v1/global/'\u001b[0m\u001b[0;34m)\u001b[0m\u001b[0;34m\u001b[0m\u001b[0m\n\u001b[0;32m----> 3\u001b[0;31m \u001b[0mprint\u001b[0m\u001b[0;34m(\u001b[0m\u001b[0mrequest\u001b[0m\u001b[0;34m.\u001b[0m\u001b[0mjson\u001b[0m\u001b[0;34m(\u001b[0m\u001b[0;34m)\u001b[0m\u001b[0;34m[\u001b[0m\u001b[0;36m0\u001b[0m\u001b[0;34m]\u001b[0m\u001b[0;34m[\u001b[0m\u001b[0;34m'name'\u001b[0m\u001b[0;34m]\u001b[0m\u001b[0;34m)\u001b[0m\u001b[0;34m\u001b[0m\u001b[0m\n\u001b[0m",
      "\u001b[0;31mKeyError\u001b[0m: 0"
     ]
    }
   ],
   "source": [
    "import requests\n",
    "request = requests.get('https://api.coinmarketcap.com/v1/global/')\n",
    "print(request.json()[0]['name'])"
   ]
  },
  {
   "cell_type": "code",
   "execution_count": 17,
   "metadata": {},
   "outputs": [
    {
     "name": "stdout",
     "output_type": "stream",
     "text": [
      "{'total_market_cap_usd': 270645316961.0, 'total_24h_volume_usd': 12288865813.0, 'bitcoin_percentage_of_market_cap': 44.95, 'active_currencies': 918, 'active_assets': 677, 'active_markets': 9906, 'last_updated': 1522515267}\n"
     ]
    }
   ],
   "source": [
    "import requests\n",
    "request = requests.get('https://api.coinmarketcap.com/v1/global/')\n",
    "print(request.json())"
   ]
  },
  {
   "cell_type": "code",
   "execution_count": 20,
   "metadata": {},
   "outputs": [
    {
     "ename": "NameError",
     "evalue": "name 'tickerURL' is not defined",
     "output_type": "error",
     "traceback": [
      "\u001b[0;31m---------------------------------------------------------------------------\u001b[0m",
      "\u001b[0;31mNameError\u001b[0m                                 Traceback (most recent call last)",
      "\u001b[0;32m<ipython-input-20-a3bf7ede5f53>\u001b[0m in \u001b[0;36m<module>\u001b[0;34m()\u001b[0m\n\u001b[0;32m----> 1\u001b[0;31m \u001b[0mrequest\u001b[0m \u001b[0;34m=\u001b[0m \u001b[0mrequests\u001b[0m\u001b[0;34m.\u001b[0m\u001b[0mget\u001b[0m\u001b[0;34m(\u001b[0m\u001b[0mtickerURL\u001b[0m\u001b[0;34m)\u001b[0m\u001b[0;34m\u001b[0m\u001b[0m\n\u001b[0m\u001b[1;32m      2\u001b[0m \u001b[0mdata\u001b[0m \u001b[0;34m=\u001b[0m \u001b[0mrequest\u001b[0m\u001b[0;34m.\u001b[0m\u001b[0mjson\u001b[0m\u001b[0;34m(\u001b[0m\u001b[0;34m)\u001b[0m\u001b[0;34m\u001b[0m\u001b[0m\n\u001b[1;32m      3\u001b[0m \u001b[0;34m\u001b[0m\u001b[0m\n\u001b[1;32m      4\u001b[0m \u001b[0;32mfor\u001b[0m \u001b[0mx\u001b[0m \u001b[0;32min\u001b[0m \u001b[0mdata\u001b[0m\u001b[0;34m:\u001b[0m\u001b[0;34m\u001b[0m\u001b[0m\n\u001b[1;32m      5\u001b[0m     \u001b[0mvalue\u001b[0m \u001b[0;34m=\u001b[0m \u001b[0mx\u001b[0m\u001b[0;34m[\u001b[0m\u001b[0;34m'market_cap_usd'\u001b[0m\u001b[0;34m]\u001b[0m\u001b[0;34m\u001b[0m\u001b[0m\n",
      "\u001b[0;31mNameError\u001b[0m: name 'tickerURL' is not defined"
     ]
    }
   ],
   "source": [
    "request = requests.get(tickerURL)\n",
    "data = request.json()\n",
    "\n",
    "for x in data:\n",
    "    value = x['market_cap_usd']\n",
    "    price = x['price_usd']\n",
    "\n",
    "    print(value + \":\\t\\t$\" + price)\n",
    "print()"
   ]
  },
  {
   "cell_type": "code",
   "execution_count": 32,
   "metadata": {},
   "outputs": [
    {
     "name": "stdout",
     "output_type": "stream",
     "text": [
      "Bitcoin:\t\t$7175.35\n",
      "Ethereum:\t\t$408.744\n",
      "Ripple:\t\t$0.524175\n",
      "Bitcoin Cash:\t\t$708.677\n",
      "Litecoin:\t\t$121.684\n",
      "EOS:\t\t$6.0803\n",
      "Cardano:\t\t$0.158649\n",
      "Stellar:\t\t$0.218893\n",
      "NEO:\t\t$51.3193\n",
      "IOTA:\t\t$1.10282\n",
      "Monero:\t\t$181.767\n",
      "Dash:\t\t$324.252\n",
      "TRON:\t\t$0.0350583\n",
      "Tether:\t\t$1.00082\n",
      "NEM:\t\t$0.225353\n",
      "Ethereum Classic:\t\t$14.7387\n",
      "VeChain:\t\t$2.49569\n",
      "Qtum:\t\t$14.6519\n",
      "Binance Coin:\t\t$11.3071\n",
      "ICON:\t\t$2.26959\n",
      "OmiseGO:\t\t$8.45529\n",
      "Lisk:\t\t$7.84719\n",
      "Bitcoin Gold:\t\t$45.6552\n",
      "Nano:\t\t$5.5149\n",
      "Zcash:\t\t$193.443\n",
      "Verge:\t\t$0.0404169\n",
      "Bytom:\t\t$0.535727\n",
      "Ontology:\t\t$2.1678\n",
      "DigixDAO:\t\t$244.527\n",
      "Populous:\t\t$12.4672\n",
      "Bytecoin:\t\t$0.00220867\n",
      "Steem:\t\t$1.55633\n",
      "Aeternity:\t\t$1.64567\n",
      "Stratis:\t\t$3.81567\n",
      "Waves:\t\t$3.73444\n",
      "Siacoin:\t\t$0.0110572\n",
      "Bitcoin Diamond:\t\t$2.3521\n",
      "RChain:\t\t$0.962549\n",
      "BitShares:\t\t$0.131523\n",
      "Dogecoin:\t\t$0.00287785\n",
      "Maker:\t\t$528.458\n",
      "Status:\t\t$0.0922519\n",
      "Zilliqa:\t\t$0.048004\n",
      "Augur:\t\t$26.9423\n",
      "0x:\t\t$0.559308\n",
      "Decred:\t\t$41.1239\n",
      "Waltonchain:\t\t$11.4546\n",
      "Veritaseum:\t\t$138.857\n",
      "Komodo:\t\t$2.44341\n",
      "Hshare:\t\t$5.79436\n",
      "Aion:\t\t$2.12895\n",
      "Ardor:\t\t$0.232631\n",
      "Loopring:\t\t$0.400466\n",
      "Cryptonex:\t\t$4.88934\n",
      "QASH:\t\t$0.630734\n",
      "KuCoin Shares:\t\t$2.34113\n",
      "Ark:\t\t$2.07779\n",
      "IOStoken:\t\t$0.0249426\n",
      "PIVX:\t\t$3.68582\n",
      "Basic Attention Token:\t\t$0.194836\n",
      "XPA:\t\t$0.193196\n",
      "Nebulas:\t\t$5.29747\n",
      "MonaCoin:\t\t$3.18657\n",
      "DigiByte:\t\t$0.0183026\n",
      "Factom:\t\t$20.1262\n",
      "Golem:\t\t$0.208839\n",
      "Ethos:\t\t$2.1524\n",
      "GXChain:\t\t$2.72689\n",
      "Gas:\t\t$16.3197\n",
      "Syscoin:\t\t$0.288681\n",
      "Dragonchain:\t\t$0.639169\n",
      "Kin:\t\t$0.000196461\n",
      "Storm:\t\t$0.0362403\n",
      "FunFair:\t\t$0.0320035\n",
      "Mithril:\t\t$0.487409\n",
      "Revain:\t\t$0.787204\n",
      "Electroneum:\t\t$0.0211417\n",
      "Kyber Network:\t\t$1.02921\n",
      "aelf:\t\t$0.551321\n",
      "ZCoin:\t\t$29.9598\n",
      "Substratum:\t\t$0.354048\n",
      "SALT:\t\t$2.12415\n",
      "ReddCoin:\t\t$0.00405565\n",
      "Nxt:\t\t$0.115376\n",
      "Nucleus Vision:\t\t$0.0286283\n",
      "Request Network:\t\t$0.169173\n",
      "Enigma:\t\t$1.49154\n",
      "Byteball Bytes:\t\t$172.525\n",
      "MaidSafeCoin:\t\t$0.237231\n",
      "Power Ledger:\t\t$0.286853\n",
      "ChainLink:\t\t$0.298102\n",
      "Neblio:\t\t$8.011\n",
      "Dropil:\t\t$0.00567498\n",
      "Dent:\t\t$0.00948671\n",
      "Dentacoin:\t\t$0.000308424\n",
      "Skycoin:\t\t$12.8677\n",
      "Bancor:\t\t$2.33938\n",
      "Emercoin:\t\t$2.38488\n",
      "Achain:\t\t$0.213289\n",
      "Cindicator:\t\t$0.0645642\n",
      "\n"
     ]
    }
   ],
   "source": [
    "tickerURL = 'https://api.coinmarketcap.com/v1/ticker/'\n",
    "request = requests.get(tickerURL)\n",
    "data = request.json()\n",
    "\n",
    "for x in data:\n",
    "    value = x['market_cap_usd']\n",
    "    price = x['price_usd']\n",
    "    name = x['name']\n",
    "\n",
    "    print(name + \":\\t\\t$\" + price)\n",
    "print()"
   ]
  },
  {
   "cell_type": "code",
   "execution_count": 33,
   "metadata": {},
   "outputs": [
    {
     "name": "stdout",
     "output_type": "stream",
     "text": [
      "Bitcoin:\t\t$6945.65\n",
      "Ethereum:\t\t$383.737\n",
      "Ripple:\t\t$0.487677\n",
      "Bitcoin Cash:\t\t$660.737\n",
      "Litecoin:\t\t$117.963\n",
      "EOS:\t\t$5.66456\n",
      "Cardano:\t\t$0.149478\n",
      "Stellar:\t\t$0.208676\n",
      "NEO:\t\t$47.4591\n",
      "IOTA:\t\t$1.02133\n",
      "Monero:\t\t$176.426\n",
      "Dash:\t\t$294.996\n",
      "Tether:\t\t$1.00193\n",
      "TRON:\t\t$0.0310213\n",
      "NEM:\t\t$0.210521\n",
      "VeChain:\t\t$2.90449\n",
      "Ethereum Classic:\t\t$13.7508\n",
      "Binance Coin:\t\t$11.1324\n",
      "Qtum:\t\t$13.8983\n",
      "OmiseGO:\t\t$8.3503\n",
      "ICON:\t\t$2.04154\n",
      "Lisk:\t\t$7.23074\n",
      "Bitcoin Gold:\t\t$41.4196\n",
      "Nano:\t\t$5.21175\n",
      "Zcash:\t\t$190.893\n",
      "Verge:\t\t$0.0453365\n",
      "Ontology:\t\t$2.045\n",
      "Bytom:\t\t$0.467563\n",
      "DigixDAO:\t\t$222.098\n",
      "Populous:\t\t$11.5896\n",
      "Bytecoin:\t\t$0.00212715\n",
      "BitShares:\t\t$0.145134\n",
      "Steem:\t\t$1.43433\n",
      "Waves:\t\t$3.53452\n",
      "Aeternity:\t\t$1.47304\n",
      "Siacoin:\t\t$0.0101894\n",
      "Stratis:\t\t$3.42905\n",
      "RChain:\t\t$0.930746\n",
      "XPA:\t\t$0.325697\n",
      "Bitcoin Diamond:\t\t$2.09562\n",
      "Dogecoin:\t\t$0.00274336\n",
      "Maker:\t\t$498.212\n",
      "Zilliqa:\t\t$0.0443367\n",
      "Status:\t\t$0.0833265\n",
      "Decred:\t\t$39.9218\n",
      "0x:\t\t$0.524344\n",
      "Augur:\t\t$24.8569\n",
      "Veritaseum:\t\t$125.66\n",
      "Komodo:\t\t$2.4104\n",
      "Hshare:\t\t$5.58548\n",
      "Waltonchain:\t\t$9.42512\n",
      "Aion:\t\t$1.89668\n",
      "Ardor:\t\t$0.216586\n",
      "Loopring:\t\t$0.37181\n",
      "Cryptonex:\t\t$4.63526\n",
      "PIVX:\t\t$3.70875\n",
      "KuCoin Shares:\t\t$2.26333\n",
      "QASH:\t\t$0.581651\n",
      "Ark:\t\t$1.922\n",
      "Basic Attention Token:\t\t$0.192961\n",
      "IOStoken:\t\t$0.0218984\n",
      "MonaCoin:\t\t$3.1102\n",
      "DigiByte:\t\t$0.0172742\n",
      "Factom:\t\t$19.6372\n",
      "Nebulas:\t\t$4.76096\n",
      "Golem:\t\t$0.19507\n",
      "GXChain:\t\t$2.6138\n",
      "Gas:\t\t$15.264\n",
      "Revain:\t\t$0.799427\n",
      "Ethos:\t\t$1.92344\n",
      "Syscoin:\t\t$0.271099\n",
      "Dragonchain:\t\t$0.586451\n",
      "FunFair:\t\t$0.0294985\n",
      "aelf:\t\t$0.537072\n",
      "Kin:\t\t$0.000172954\n",
      "ZCoin:\t\t$28.7711\n",
      "Electroneum:\t\t$0.0193712\n",
      "Kyber Network:\t\t$0.934797\n",
      "Mithril:\t\t$0.413949\n",
      "ReddCoin:\t\t$0.00428\n",
      "Storm:\t\t$0.0295262\n",
      "Substratum:\t\t$0.322828\n",
      "SALT:\t\t$2.00491\n",
      "MaidSafeCoin:\t\t$0.245127\n",
      "Nxt:\t\t$0.109779\n",
      "Byteball Bytes:\t\t$169.751\n",
      "Enigma:\t\t$1.39397\n",
      "Nucleus Vision:\t\t$0.0257274\n",
      "Skycoin:\t\t$12.8871\n",
      "Request Network:\t\t$0.148664\n",
      "Dropil:\t\t$0.00534763\n",
      "Power Ledger:\t\t$0.265955\n",
      "Neblio:\t\t$7.3906\n",
      "Dent:\t\t$0.00894051\n",
      "ChainLink:\t\t$0.265605\n",
      "Bancor:\t\t$2.17944\n",
      "Emercoin:\t\t$2.22375\n",
      "Dentacoin:\t\t$0.000282406\n",
      "TenX:\t\t$0.870766\n",
      "Genaro Network:\t\t$0.379297\n",
      "\n"
     ]
    }
   ],
   "source": [
    "tickerURL = 'https://api.coinmarketcap.com/v1/ticker/'\n",
    "request = requests.get(tickerURL)\n",
    "data = request.json()\n",
    "\n",
    "for x in data:\n",
    "    value = x['market_cap_usd']\n",
    "    price = x['price_usd']\n",
    "    name = x['name']\n",
    "\n",
    "    print(name + \":\\t\\t$\" + price)\n",
    "print()"
   ]
  },
  {
   "cell_type": "code",
   "execution_count": 34,
   "metadata": {},
   "outputs": [
    {
     "ename": "JSONDecodeError",
     "evalue": "Expecting value: line 1 column 1 (char 0)",
     "output_type": "error",
     "traceback": [
      "\u001b[0;31m---------------------------------------------------------------------------\u001b[0m",
      "\u001b[0;31mJSONDecodeError\u001b[0m                           Traceback (most recent call last)",
      "\u001b[0;32m<ipython-input-34-06bd5266187c>\u001b[0m in \u001b[0;36m<module>\u001b[0;34m()\u001b[0m\n\u001b[1;32m      1\u001b[0m \u001b[0mtickerURL\u001b[0m \u001b[0;34m=\u001b[0m \u001b[0;34m'https://coinmarketcap.com/currencies/bitcoin/historical-data/'\u001b[0m\u001b[0;34m\u001b[0m\u001b[0m\n\u001b[1;32m      2\u001b[0m \u001b[0mrequest\u001b[0m \u001b[0;34m=\u001b[0m \u001b[0mrequests\u001b[0m\u001b[0;34m.\u001b[0m\u001b[0mget\u001b[0m\u001b[0;34m(\u001b[0m\u001b[0mtickerURL\u001b[0m\u001b[0;34m)\u001b[0m\u001b[0;34m\u001b[0m\u001b[0m\n\u001b[0;32m----> 3\u001b[0;31m \u001b[0mdata\u001b[0m \u001b[0;34m=\u001b[0m \u001b[0mrequest\u001b[0m\u001b[0;34m.\u001b[0m\u001b[0mjson\u001b[0m\u001b[0;34m(\u001b[0m\u001b[0;34m)\u001b[0m\u001b[0;34m\u001b[0m\u001b[0m\n\u001b[0m\u001b[1;32m      4\u001b[0m \u001b[0;34m\u001b[0m\u001b[0m\n",
      "\u001b[0;32m/Library/Frameworks/Python.framework/Versions/3.6/lib/python3.6/site-packages/requests/models.py\u001b[0m in \u001b[0;36mjson\u001b[0;34m(self, **kwargs)\u001b[0m\n\u001b[1;32m    890\u001b[0m                     \u001b[0;31m# used.\u001b[0m\u001b[0;34m\u001b[0m\u001b[0;34m\u001b[0m\u001b[0m\n\u001b[1;32m    891\u001b[0m                     \u001b[0;32mpass\u001b[0m\u001b[0;34m\u001b[0m\u001b[0m\n\u001b[0;32m--> 892\u001b[0;31m         \u001b[0;32mreturn\u001b[0m \u001b[0mcomplexjson\u001b[0m\u001b[0;34m.\u001b[0m\u001b[0mloads\u001b[0m\u001b[0;34m(\u001b[0m\u001b[0mself\u001b[0m\u001b[0;34m.\u001b[0m\u001b[0mtext\u001b[0m\u001b[0;34m,\u001b[0m \u001b[0;34m**\u001b[0m\u001b[0mkwargs\u001b[0m\u001b[0;34m)\u001b[0m\u001b[0;34m\u001b[0m\u001b[0m\n\u001b[0m\u001b[1;32m    893\u001b[0m \u001b[0;34m\u001b[0m\u001b[0m\n\u001b[1;32m    894\u001b[0m     \u001b[0;34m@\u001b[0m\u001b[0mproperty\u001b[0m\u001b[0;34m\u001b[0m\u001b[0m\n",
      "\u001b[0;32m/Library/Frameworks/Python.framework/Versions/3.6/lib/python3.6/json/__init__.py\u001b[0m in \u001b[0;36mloads\u001b[0;34m(s, encoding, cls, object_hook, parse_float, parse_int, parse_constant, object_pairs_hook, **kw)\u001b[0m\n\u001b[1;32m    352\u001b[0m             \u001b[0mparse_int\u001b[0m \u001b[0;32mis\u001b[0m \u001b[0;32mNone\u001b[0m \u001b[0;32mand\u001b[0m \u001b[0mparse_float\u001b[0m \u001b[0;32mis\u001b[0m \u001b[0;32mNone\u001b[0m \u001b[0;32mand\u001b[0m\u001b[0;34m\u001b[0m\u001b[0m\n\u001b[1;32m    353\u001b[0m             parse_constant is None and object_pairs_hook is None and not kw):\n\u001b[0;32m--> 354\u001b[0;31m         \u001b[0;32mreturn\u001b[0m \u001b[0m_default_decoder\u001b[0m\u001b[0;34m.\u001b[0m\u001b[0mdecode\u001b[0m\u001b[0;34m(\u001b[0m\u001b[0ms\u001b[0m\u001b[0;34m)\u001b[0m\u001b[0;34m\u001b[0m\u001b[0m\n\u001b[0m\u001b[1;32m    355\u001b[0m     \u001b[0;32mif\u001b[0m \u001b[0mcls\u001b[0m \u001b[0;32mis\u001b[0m \u001b[0;32mNone\u001b[0m\u001b[0;34m:\u001b[0m\u001b[0;34m\u001b[0m\u001b[0m\n\u001b[1;32m    356\u001b[0m         \u001b[0mcls\u001b[0m \u001b[0;34m=\u001b[0m \u001b[0mJSONDecoder\u001b[0m\u001b[0;34m\u001b[0m\u001b[0m\n",
      "\u001b[0;32m/Library/Frameworks/Python.framework/Versions/3.6/lib/python3.6/json/decoder.py\u001b[0m in \u001b[0;36mdecode\u001b[0;34m(self, s, _w)\u001b[0m\n\u001b[1;32m    337\u001b[0m \u001b[0;34m\u001b[0m\u001b[0m\n\u001b[1;32m    338\u001b[0m         \"\"\"\n\u001b[0;32m--> 339\u001b[0;31m         \u001b[0mobj\u001b[0m\u001b[0;34m,\u001b[0m \u001b[0mend\u001b[0m \u001b[0;34m=\u001b[0m \u001b[0mself\u001b[0m\u001b[0;34m.\u001b[0m\u001b[0mraw_decode\u001b[0m\u001b[0;34m(\u001b[0m\u001b[0ms\u001b[0m\u001b[0;34m,\u001b[0m \u001b[0midx\u001b[0m\u001b[0;34m=\u001b[0m\u001b[0m_w\u001b[0m\u001b[0;34m(\u001b[0m\u001b[0ms\u001b[0m\u001b[0;34m,\u001b[0m \u001b[0;36m0\u001b[0m\u001b[0;34m)\u001b[0m\u001b[0;34m.\u001b[0m\u001b[0mend\u001b[0m\u001b[0;34m(\u001b[0m\u001b[0;34m)\u001b[0m\u001b[0;34m)\u001b[0m\u001b[0;34m\u001b[0m\u001b[0m\n\u001b[0m\u001b[1;32m    340\u001b[0m         \u001b[0mend\u001b[0m \u001b[0;34m=\u001b[0m \u001b[0m_w\u001b[0m\u001b[0;34m(\u001b[0m\u001b[0ms\u001b[0m\u001b[0;34m,\u001b[0m \u001b[0mend\u001b[0m\u001b[0;34m)\u001b[0m\u001b[0;34m.\u001b[0m\u001b[0mend\u001b[0m\u001b[0;34m(\u001b[0m\u001b[0;34m)\u001b[0m\u001b[0;34m\u001b[0m\u001b[0m\n\u001b[1;32m    341\u001b[0m         \u001b[0;32mif\u001b[0m \u001b[0mend\u001b[0m \u001b[0;34m!=\u001b[0m \u001b[0mlen\u001b[0m\u001b[0;34m(\u001b[0m\u001b[0ms\u001b[0m\u001b[0;34m)\u001b[0m\u001b[0;34m:\u001b[0m\u001b[0;34m\u001b[0m\u001b[0m\n",
      "\u001b[0;32m/Library/Frameworks/Python.framework/Versions/3.6/lib/python3.6/json/decoder.py\u001b[0m in \u001b[0;36mraw_decode\u001b[0;34m(self, s, idx)\u001b[0m\n\u001b[1;32m    355\u001b[0m             \u001b[0mobj\u001b[0m\u001b[0;34m,\u001b[0m \u001b[0mend\u001b[0m \u001b[0;34m=\u001b[0m \u001b[0mself\u001b[0m\u001b[0;34m.\u001b[0m\u001b[0mscan_once\u001b[0m\u001b[0;34m(\u001b[0m\u001b[0ms\u001b[0m\u001b[0;34m,\u001b[0m \u001b[0midx\u001b[0m\u001b[0;34m)\u001b[0m\u001b[0;34m\u001b[0m\u001b[0m\n\u001b[1;32m    356\u001b[0m         \u001b[0;32mexcept\u001b[0m \u001b[0mStopIteration\u001b[0m \u001b[0;32mas\u001b[0m \u001b[0merr\u001b[0m\u001b[0;34m:\u001b[0m\u001b[0;34m\u001b[0m\u001b[0m\n\u001b[0;32m--> 357\u001b[0;31m             \u001b[0;32mraise\u001b[0m \u001b[0mJSONDecodeError\u001b[0m\u001b[0;34m(\u001b[0m\u001b[0;34m\"Expecting value\"\u001b[0m\u001b[0;34m,\u001b[0m \u001b[0ms\u001b[0m\u001b[0;34m,\u001b[0m \u001b[0merr\u001b[0m\u001b[0;34m.\u001b[0m\u001b[0mvalue\u001b[0m\u001b[0;34m)\u001b[0m \u001b[0;32mfrom\u001b[0m \u001b[0;32mNone\u001b[0m\u001b[0;34m\u001b[0m\u001b[0m\n\u001b[0m\u001b[1;32m    358\u001b[0m         \u001b[0;32mreturn\u001b[0m \u001b[0mobj\u001b[0m\u001b[0;34m,\u001b[0m \u001b[0mend\u001b[0m\u001b[0;34m\u001b[0m\u001b[0m\n",
      "\u001b[0;31mJSONDecodeError\u001b[0m: Expecting value: line 1 column 1 (char 0)"
     ]
    }
   ],
   "source": [
    "tickerURL = 'https://coinmarketcap.com/currencies/bitcoin/historical-data/'\n",
    "request = requests.get(tickerURL)\n",
    "data = request.json()\n",
    "\n"
   ]
  },
  {
   "cell_type": "code",
   "execution_count": null,
   "metadata": {},
   "outputs": [],
   "source": []
  }
 ],
 "metadata": {
  "kernelspec": {
   "display_name": "Python 3",
   "language": "python",
   "name": "python3"
  },
  "language_info": {
   "codemirror_mode": {
    "name": "ipython",
    "version": 3
   },
   "file_extension": ".py",
   "mimetype": "text/x-python",
   "name": "python",
   "nbconvert_exporter": "python",
   "pygments_lexer": "ipython3",
   "version": "3.6.3"
  }
 },
 "nbformat": 4,
 "nbformat_minor": 2
}
